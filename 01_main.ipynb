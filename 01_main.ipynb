{
 "cells": [
  {
   "cell_type": "markdown",
   "metadata": {},
   "source": [
    "# Main App"
   ]
  },
  {
   "cell_type": "code",
   "execution_count": 55,
   "metadata": {},
   "outputs": [
    {
     "name": "stdout",
     "output_type": "stream",
     "text": [
      "The autoreload extension is already loaded. To reload it, use:\n",
      "  %reload_ext autoreload\n"
     ]
    }
   ],
   "source": [
    "%load_ext autoreload\n",
    "%autoreload 2"
   ]
  },
  {
   "cell_type": "code",
   "execution_count": 56,
   "metadata": {},
   "outputs": [],
   "source": [
    "#|export\n",
    "import pandas as pd\n",
    "from flask import Flask, redirect, request, render_template\n",
    "from dataclasses import dataclass"
   ]
  },
  {
   "cell_type": "code",
   "execution_count": 57,
   "metadata": {},
   "outputs": [],
   "source": [
    "\n",
    "from IPython.display import display_html"
   ]
  },
  {
   "cell_type": "code",
   "execution_count": 58,
   "metadata": {},
   "outputs": [],
   "source": [
    "people = [\n",
    "    {\n",
    "        \"firstname\": \"John\",\n",
    "        \"lastname\": \"Doe\",\n",
    "        \"phone\": \"555-1234\",\n",
    "        \"email\": \"john.doe@example.com\"\n",
    "    },\n",
    "    {\n",
    "        \"firstname\": \"Jane\",\n",
    "        \"lastname\": \"Smith\",\n",
    "        \"phone\": \"555-5678\",\n",
    "        \"email\": \"jane.smith@example.com\"\n",
    "    },\n",
    "    {\n",
    "        \"firstname\": \"Alice\",\n",
    "        \"lastname\": \"Johnson\",\n",
    "        \"phone\": \"555-8765\",\n",
    "        \"email\": \"alice.johnson@example.com\"\n",
    "    },\n",
    "    {\n",
    "        \"firstname\": \"Bob\",\n",
    "        \"lastname\": \"Williams\",\n",
    "        \"phone\": \"555-4321\",\n",
    "        \"email\": \"bob.williams@example.com\"\n",
    "    },\n",
    "    {\n",
    "        \"firstname\": \"Charlie\",\n",
    "        \"lastname\": \"Brown\",\n",
    "        \"phone\": \"555-9876\",\n",
    "        \"email\": \"charlie.brown@example.com\"\n",
    "    },\n",
    "    {\n",
    "        \"firstname\": \"Diana\",\n",
    "        \"lastname\": \"Miller\",\n",
    "        \"phone\": \"555-6543\",\n",
    "        \"email\": \"diana.miller@example.com\"\n",
    "    },\n",
    "    {\n",
    "        \"firstname\": \"Edward\",\n",
    "        \"lastname\": \"Davis\",\n",
    "        \"phone\": \"555-3456\",\n",
    "        \"email\": \"edward.davis@example.com\"\n",
    "    },\n",
    "    {\n",
    "        \"firstname\": \"Fiona\",\n",
    "        \"lastname\": \"Garcia\",\n",
    "        \"phone\": \"555-6789\",\n",
    "        \"email\": \"fiona.garcia@example.com\"\n",
    "    },\n",
    "    {\n",
    "        \"firstname\": \"George\",\n",
    "        \"lastname\": \"Martinez\",\n",
    "        \"phone\": \"555-7890\",\n",
    "        \"email\": \"george.martinez@example.com\"\n",
    "    },\n",
    "    {\n",
    "        \"firstname\": \"Hannah\",\n",
    "        \"lastname\": \"Rodriguez\",\n",
    "        \"phone\": \"555-8901\",\n",
    "        \"email\": \"hannah.rodriguez@example.com\"\n",
    "    }\n",
    "]\n",
    "\n",
    "# Writing the JSON data to a file\n",
    "file_path = 'contactdb.json'\n",
    "# df = pd.read_json(file_path)\n",
    "df = pd.DataFrame()\n",
    "df = df.from_dict(people)\n",
    "df['id'] = df.index\n",
    "df.to_json(file_path, orient='records')"
   ]
  },
  {
   "cell_type": "code",
   "execution_count": 59,
   "metadata": {},
   "outputs": [
    {
     "data": {
      "text/plain": [
       "[{'firstname': 'John',\n",
       "  'lastname': 'Doe',\n",
       "  'phone': '555-1234',\n",
       "  'email': 'john.doe@example.com',\n",
       "  'id': 0},\n",
       " {'firstname': 'Jane',\n",
       "  'lastname': 'Smith',\n",
       "  'phone': '555-5678',\n",
       "  'email': 'jane.smith@example.com',\n",
       "  'id': 1},\n",
       " {'firstname': 'Alice',\n",
       "  'lastname': 'Johnson',\n",
       "  'phone': '555-8765',\n",
       "  'email': 'alice.johnson@example.com',\n",
       "  'id': 2},\n",
       " {'firstname': 'Bob',\n",
       "  'lastname': 'Williams',\n",
       "  'phone': '555-4321',\n",
       "  'email': 'bob.williams@example.com',\n",
       "  'id': 3},\n",
       " {'firstname': 'Charlie',\n",
       "  'lastname': 'Brown',\n",
       "  'phone': '555-9876',\n",
       "  'email': 'charlie.brown@example.com',\n",
       "  'id': 4},\n",
       " {'firstname': 'Diana',\n",
       "  'lastname': 'Miller',\n",
       "  'phone': '555-6543',\n",
       "  'email': 'diana.miller@example.com',\n",
       "  'id': 5},\n",
       " {'firstname': 'Edward',\n",
       "  'lastname': 'Davis',\n",
       "  'phone': '555-3456',\n",
       "  'email': 'edward.davis@example.com',\n",
       "  'id': 6},\n",
       " {'firstname': 'Fiona',\n",
       "  'lastname': 'Garcia',\n",
       "  'phone': '555-6789',\n",
       "  'email': 'fiona.garcia@example.com',\n",
       "  'id': 7},\n",
       " {'firstname': 'George',\n",
       "  'lastname': 'Martinez',\n",
       "  'phone': '555-7890',\n",
       "  'email': 'george.martinez@example.com',\n",
       "  'id': 8},\n",
       " {'firstname': 'Hannah',\n",
       "  'lastname': 'Rodriguez',\n",
       "  'phone': '555-8901',\n",
       "  'email': 'hannah.rodriguez@example.com',\n",
       "  'id': 9}]"
      ]
     },
     "execution_count": 59,
     "metadata": {},
     "output_type": "execute_result"
    }
   ],
   "source": [
    "db = pd.read_json('contactdb.json')\n",
    "db.to_dict('records')"
   ]
  },
  {
   "cell_type": "code",
   "execution_count": 60,
   "metadata": {},
   "outputs": [
    {
     "data": {
      "text/html": [
       "<div>\n",
       "<style scoped>\n",
       "    .dataframe tbody tr th:only-of-type {\n",
       "        vertical-align: middle;\n",
       "    }\n",
       "\n",
       "    .dataframe tbody tr th {\n",
       "        vertical-align: top;\n",
       "    }\n",
       "\n",
       "    .dataframe thead th {\n",
       "        text-align: right;\n",
       "    }\n",
       "</style>\n",
       "<table border=\"1\" class=\"dataframe\">\n",
       "  <thead>\n",
       "    <tr style=\"text-align: right;\">\n",
       "      <th></th>\n",
       "      <th>firstname</th>\n",
       "      <th>lastname</th>\n",
       "      <th>phone</th>\n",
       "      <th>email</th>\n",
       "      <th>id</th>\n",
       "    </tr>\n",
       "  </thead>\n",
       "  <tbody>\n",
       "    <tr>\n",
       "      <th>0</th>\n",
       "      <td>John</td>\n",
       "      <td>Doe</td>\n",
       "      <td>555-1234</td>\n",
       "      <td>john.doe@example.com</td>\n",
       "      <td>0</td>\n",
       "    </tr>\n",
       "  </tbody>\n",
       "</table>\n",
       "</div>"
      ],
      "text/plain": [
       "  firstname lastname     phone                 email  id\n",
       "0      John      Doe  555-1234  john.doe@example.com   0"
      ]
     },
     "execution_count": 60,
     "metadata": {},
     "output_type": "execute_result"
    }
   ],
   "source": [
    "q = '1234'\n",
    "# db[db['firstname'].str.lower().str.contains(q)]\n",
    "predicate_firstname = db['firstname'].str.lower().str.contains(q.lower())\n",
    "predicate_lastname = db['lastname'].str.lower().str.contains(q.lower())\n",
    "predicate_phone = db['phone'].str.lower().str.contains(q.lower())\n",
    "predicate_email= db['email'].str.lower().str.contains(q.lower())\n",
    "db[predicate_firstname|predicate_lastname|predicate_phone|predicate_email]"
   ]
  },
  {
   "cell_type": "code",
   "execution_count": 61,
   "metadata": {},
   "outputs": [],
   "source": [
    "db.columns\n",
    "\n",
    "a={'firstname': 'Rahul',\n",
    "   'lastname': 'Saraf',\n",
    "    'phone':'7347399',\n",
    "    'email': 'rahuketu86'}\n",
    "a['id'] = len(db)\n",
    "# db.loc[len(db)] = \n",
    "a\n",
    "db.loc[len(db), a.keys()] = a.values()"
   ]
  },
  {
   "cell_type": "code",
   "execution_count": 62,
   "metadata": {},
   "outputs": [
    {
     "data": {
      "text/html": [
       "<div>\n",
       "<style scoped>\n",
       "    .dataframe tbody tr th:only-of-type {\n",
       "        vertical-align: middle;\n",
       "    }\n",
       "\n",
       "    .dataframe tbody tr th {\n",
       "        vertical-align: top;\n",
       "    }\n",
       "\n",
       "    .dataframe thead th {\n",
       "        text-align: right;\n",
       "    }\n",
       "</style>\n",
       "<table border=\"1\" class=\"dataframe\">\n",
       "  <thead>\n",
       "    <tr style=\"text-align: right;\">\n",
       "      <th></th>\n",
       "      <th>firstname</th>\n",
       "      <th>lastname</th>\n",
       "      <th>phone</th>\n",
       "      <th>email</th>\n",
       "      <th>id</th>\n",
       "    </tr>\n",
       "  </thead>\n",
       "  <tbody>\n",
       "    <tr>\n",
       "      <th>0</th>\n",
       "      <td>John</td>\n",
       "      <td>Doe</td>\n",
       "      <td>555-1234</td>\n",
       "      <td>john.doe@example.com</td>\n",
       "      <td>0.0</td>\n",
       "    </tr>\n",
       "    <tr>\n",
       "      <th>1</th>\n",
       "      <td>Jane</td>\n",
       "      <td>Smith</td>\n",
       "      <td>555-5678</td>\n",
       "      <td>jane.smith@example.com</td>\n",
       "      <td>1.0</td>\n",
       "    </tr>\n",
       "    <tr>\n",
       "      <th>2</th>\n",
       "      <td>Alice</td>\n",
       "      <td>Johnson</td>\n",
       "      <td>555-8765</td>\n",
       "      <td>alice.johnson@example.com</td>\n",
       "      <td>2.0</td>\n",
       "    </tr>\n",
       "    <tr>\n",
       "      <th>3</th>\n",
       "      <td>Bob</td>\n",
       "      <td>Williams</td>\n",
       "      <td>555-4321</td>\n",
       "      <td>bob.williams@example.com</td>\n",
       "      <td>3.0</td>\n",
       "    </tr>\n",
       "    <tr>\n",
       "      <th>4</th>\n",
       "      <td>Charlie</td>\n",
       "      <td>Brown</td>\n",
       "      <td>555-9876</td>\n",
       "      <td>charlie.brown@example.com</td>\n",
       "      <td>4.0</td>\n",
       "    </tr>\n",
       "    <tr>\n",
       "      <th>5</th>\n",
       "      <td>Diana</td>\n",
       "      <td>Miller</td>\n",
       "      <td>555-6543</td>\n",
       "      <td>diana.miller@example.com</td>\n",
       "      <td>5.0</td>\n",
       "    </tr>\n",
       "    <tr>\n",
       "      <th>6</th>\n",
       "      <td>Edward</td>\n",
       "      <td>Davis</td>\n",
       "      <td>555-3456</td>\n",
       "      <td>edward.davis@example.com</td>\n",
       "      <td>6.0</td>\n",
       "    </tr>\n",
       "    <tr>\n",
       "      <th>7</th>\n",
       "      <td>Fiona</td>\n",
       "      <td>Garcia</td>\n",
       "      <td>555-6789</td>\n",
       "      <td>fiona.garcia@example.com</td>\n",
       "      <td>7.0</td>\n",
       "    </tr>\n",
       "    <tr>\n",
       "      <th>8</th>\n",
       "      <td>George</td>\n",
       "      <td>Martinez</td>\n",
       "      <td>555-7890</td>\n",
       "      <td>george.martinez@example.com</td>\n",
       "      <td>8.0</td>\n",
       "    </tr>\n",
       "    <tr>\n",
       "      <th>9</th>\n",
       "      <td>Hannah</td>\n",
       "      <td>Rodriguez</td>\n",
       "      <td>555-8901</td>\n",
       "      <td>hannah.rodriguez@example.com</td>\n",
       "      <td>9.0</td>\n",
       "    </tr>\n",
       "    <tr>\n",
       "      <th>10</th>\n",
       "      <td>Rahul</td>\n",
       "      <td>Saraf</td>\n",
       "      <td>7347399</td>\n",
       "      <td>rahuketu86</td>\n",
       "      <td>10.0</td>\n",
       "    </tr>\n",
       "  </tbody>\n",
       "</table>\n",
       "</div>"
      ],
      "text/plain": [
       "   firstname   lastname     phone                         email    id\n",
       "0       John        Doe  555-1234          john.doe@example.com   0.0\n",
       "1       Jane      Smith  555-5678        jane.smith@example.com   1.0\n",
       "2      Alice    Johnson  555-8765     alice.johnson@example.com   2.0\n",
       "3        Bob   Williams  555-4321      bob.williams@example.com   3.0\n",
       "4    Charlie      Brown  555-9876     charlie.brown@example.com   4.0\n",
       "5      Diana     Miller  555-6543      diana.miller@example.com   5.0\n",
       "6     Edward      Davis  555-3456      edward.davis@example.com   6.0\n",
       "7      Fiona     Garcia  555-6789      fiona.garcia@example.com   7.0\n",
       "8     George   Martinez  555-7890   george.martinez@example.com   8.0\n",
       "9     Hannah  Rodriguez  555-8901  hannah.rodriguez@example.com   9.0\n",
       "10     Rahul      Saraf   7347399                    rahuketu86  10.0"
      ]
     },
     "execution_count": 62,
     "metadata": {},
     "output_type": "execute_result"
    }
   ],
   "source": [
    "db"
   ]
  },
  {
   "cell_type": "code",
   "execution_count": 63,
   "metadata": {},
   "outputs": [],
   "source": [
    "#|export\n",
    "@dataclass\n",
    "class Contact:\n",
    "    firstname: str\n",
    "    lastname: str\n",
    "    phone: str\n",
    "    email: str"
   ]
  },
  {
   "cell_type": "code",
   "execution_count": 64,
   "metadata": {},
   "outputs": [],
   "source": [
    "#|export\n",
    "class Contacts(object):\n",
    "    def __init__(self) -> None:\n",
    "        self.refresh()\n",
    "\n",
    "    def search(self, q):\n",
    "        predicate_firstname = self.db['firstname'].str.lower().str.contains(q.lower())\n",
    "        predicate_lastname = self.db['lastname'].str.lower().str.contains(q.lower())\n",
    "        predicate_phone = self.db['phone'].str.lower().str.contains(q.lower())\n",
    "        predicate_email= self.db['email'].str.lower().str.contains(q.lower())\n",
    "        filter_df = self.db[predicate_firstname|predicate_lastname|predicate_phone|predicate_email]\n",
    "        return filter_df.to_dict('records')\n",
    "    \n",
    "    def refresh(self):\n",
    "        self.file_path = 'contactdb.json'\n",
    "        self.db = pd.read_json(self.file_path)\n",
    "\n",
    "    def all(self):\n",
    "        return self.db.to_dict('records')\n",
    "    \n",
    "    def get(self, id):\n",
    "        contact = self.db[self.db['id']==id]\n",
    "        # print(contact)\n",
    "        return contact.to_dict('records')[0]\n",
    "    \n",
    "    def add(self, firstname, lastname, phone, email):\n",
    "        a={'firstname': firstname,\n",
    "           'lastname': lastname,\n",
    "           'phone':phone,\n",
    "           'email': email}\n",
    "        a['id'] = len(self.db)\n",
    "        self.db.loc[len(self.db), a.keys()] = a.values()\n",
    "        self.db.to_json(file_path, orient='records')\n",
    "        self.refresh()\n",
    "\n",
    "    def delete(self, id):\n",
    "        self.db.drop(index=id, inplace=True, errors='raise')\n",
    "        self.db.to_json(file_path, orient='records')\n",
    "        self.refresh()\n",
    "\n",
    "    def edit(self, id, firstname, lastname, phone, email):\n",
    "        a={'firstname': firstname,\n",
    "           'lastname': lastname,\n",
    "           'phone':phone,\n",
    "           'email': email,\n",
    "           'id': id}\n",
    "        self.db.loc[id, a.keys()] = a.values()\n",
    "        self.db.to_json(file_path, orient='records')\n",
    "        self.refresh()\n"
   ]
  },
  {
   "cell_type": "code",
   "execution_count": 65,
   "metadata": {},
   "outputs": [
    {
     "data": {
      "text/plain": [
       "dict_values(['Alice', 'Johnson', '555-8765', 'alice.johnson@example.com', 2])"
      ]
     },
     "execution_count": 65,
     "metadata": {},
     "output_type": "execute_result"
    }
   ],
   "source": [
    "c = Contacts()\n",
    "c.db.loc[2].to_dict().values()"
   ]
  },
  {
   "cell_type": "code",
   "execution_count": 66,
   "metadata": {},
   "outputs": [
    {
     "data": {
      "text/plain": [
       "{'firstname': 'Alice',\n",
       " 'lastname': 'Johnson',\n",
       " 'phone': '555-8767',\n",
       " 'email': 'alice.johnson@example.com',\n",
       " 'id': 2}"
      ]
     },
     "execution_count": 66,
     "metadata": {},
     "output_type": "execute_result"
    }
   ],
   "source": [
    "new_vals = [2, 'Alice', 'Johnson', '555-8767', 'alice.johnson@example.com']\n",
    "c.edit(*new_vals)\n",
    "c.get(2)"
   ]
  },
  {
   "cell_type": "code",
   "execution_count": 67,
   "metadata": {},
   "outputs": [
    {
     "data": {
      "text/plain": [
       "[{'firstname': 'Jane',\n",
       "  'lastname': 'Smith',\n",
       "  'phone': '555-5678',\n",
       "  'email': 'jane.smith@example.com',\n",
       "  'id': 1},\n",
       " {'firstname': 'Alice',\n",
       "  'lastname': 'Johnson',\n",
       "  'phone': '555-8767',\n",
       "  'email': 'alice.johnson@example.com',\n",
       "  'id': 2},\n",
       " {'firstname': 'Bob',\n",
       "  'lastname': 'Williams',\n",
       "  'phone': '555-4321',\n",
       "  'email': 'bob.williams@example.com',\n",
       "  'id': 3},\n",
       " {'firstname': 'Charlie',\n",
       "  'lastname': 'Brown',\n",
       "  'phone': '555-9876',\n",
       "  'email': 'charlie.brown@example.com',\n",
       "  'id': 4},\n",
       " {'firstname': 'Diana',\n",
       "  'lastname': 'Miller',\n",
       "  'phone': '555-6543',\n",
       "  'email': 'diana.miller@example.com',\n",
       "  'id': 5},\n",
       " {'firstname': 'Edward',\n",
       "  'lastname': 'Davis',\n",
       "  'phone': '555-3456',\n",
       "  'email': 'edward.davis@example.com',\n",
       "  'id': 6},\n",
       " {'firstname': 'Fiona',\n",
       "  'lastname': 'Garcia',\n",
       "  'phone': '555-6789',\n",
       "  'email': 'fiona.garcia@example.com',\n",
       "  'id': 7},\n",
       " {'firstname': 'George',\n",
       "  'lastname': 'Martinez',\n",
       "  'phone': '555-7890',\n",
       "  'email': 'george.martinez@example.com',\n",
       "  'id': 8},\n",
       " {'firstname': 'Hannah',\n",
       "  'lastname': 'Rodriguez',\n",
       "  'phone': '555-8901',\n",
       "  'email': 'hannah.rodriguez@example.com',\n",
       "  'id': 9},\n",
       " {'firstname': 'John',\n",
       "  'lastname': 'Doe',\n",
       "  'phone': '555-1234',\n",
       "  'email': 'john.doe@example.com',\n",
       "  'id': 9}]"
      ]
     },
     "execution_count": 67,
     "metadata": {},
     "output_type": "execute_result"
    }
   ],
   "source": [
    "c = Contacts()\n",
    "a_dict = c.db.loc[0].to_dict()\n",
    "a_dict.pop('id', None); a_dict\n",
    "c.delete(0)\n",
    "\n",
    "c.add(*list(a_dict.values()))\n",
    "c.all()\n",
    "\n",
    "\n"
   ]
  },
  {
   "cell_type": "code",
   "execution_count": 68,
   "metadata": {},
   "outputs": [],
   "source": [
    "#|export\n",
    "app = Flask(__name__)"
   ]
  },
  {
   "cell_type": "code",
   "execution_count": 69,
   "metadata": {},
   "outputs": [],
   "source": [
    "#|export\n",
    "@app.get(\"/\")\n",
    "def index():\n",
    "    return redirect(\"/contacts\")"
   ]
  },
  {
   "cell_type": "code",
   "execution_count": 70,
   "metadata": {},
   "outputs": [],
   "source": [
    "#|export\n",
    "@app.get(\"/contacts\")\n",
    "def contacts():\n",
    "    search = request.args.get(\"q\")\n",
    "    contact_set = None\n",
    "    if search is not None: contact_set = Contacts().search(search)\n",
    "    else: contact_set = Contacts().all()\n",
    "    # print(contact_set)\n",
    "    return render_template(\"index.html\", contact_set=contact_set)"
   ]
  },
  {
   "cell_type": "code",
   "execution_count": 71,
   "metadata": {},
   "outputs": [
    {
     "data": {
      "text/plain": [
       "{'firstname': 'Alice',\n",
       " 'lastname': 'Johnson',\n",
       " 'phone': '555-8767',\n",
       " 'email': 'alice.johnson@example.com',\n",
       " 'id': 2}"
      ]
     },
     "execution_count": 71,
     "metadata": {},
     "output_type": "execute_result"
    }
   ],
   "source": [
    "Contacts().db[df['id']==1].to_dict('records')[0]"
   ]
  },
  {
   "cell_type": "code",
   "execution_count": 72,
   "metadata": {},
   "outputs": [],
   "source": [
    "#|export\n",
    "@app.get(\"/contacts/<int:id>\")\n",
    "def view(id:int):\n",
    "    return render_template(\"view.html\", contact=Contacts().get(id))"
   ]
  },
  {
   "cell_type": "code",
   "execution_count": 73,
   "metadata": {},
   "outputs": [
    {
     "name": "stdout",
     "output_type": "stream",
     "text": [
      "<!doctype html>\n",
      "<html>\n",
      "    <head>\n",
      "        <title>Contact.App</title>\n",
      "        <link rel=\"stylesheet\" href=\"https://cdn.jsdelivr.net/npm/@picocss/pico@2/css/pico.min.css\">\n",
      "    </head>\n",
      "    <body>\n",
      "        <main class=\"container\">\n",
      "            <h1> CONTACTS.APP</h1>\n",
      "            <h2> A demo contact application </h2>\n",
      "            <hr>\n",
      "            \n",
      "    <article>\n",
      "        <h1>Alice Johnson </h1>\n",
      "        <div role=\"group\">\n",
      "            <div>555-8767</div>\n",
      "            <div>alice.johnson@example.com</div>\n",
      "        </div>\n",
      "        <footer>\n",
      "            <a href=\"/contacts\" role=\"button\">Back</a>\n",
      "        </footer>\n",
      "    </article>\n",
      "\n",
      "        </main>\n",
      "    </body>\n",
      "</html>\n"
     ]
    }
   ],
   "source": [
    "with app.app_context():\n",
    "    print(view(2))"
   ]
  },
  {
   "cell_type": "code",
   "execution_count": 74,
   "metadata": {},
   "outputs": [
    {
     "data": {
      "text/plain": [
       "{'firstname': 'Alice',\n",
       " 'lastname': 'Johnson',\n",
       " 'phone': '555-8767',\n",
       " 'email': 'alice.johnson@example.com',\n",
       " 'id': 2}"
      ]
     },
     "execution_count": 74,
     "metadata": {},
     "output_type": "execute_result"
    }
   ],
   "source": [
    "Contacts().get(2)"
   ]
  },
  {
   "cell_type": "code",
   "execution_count": 75,
   "metadata": {},
   "outputs": [],
   "source": [
    "#|export\n",
    "@app.put(\"/contacts/<int:id>/edit\")\n",
    "def edit(id):\n",
    "    return \"Edit View\""
   ]
  },
  {
   "cell_type": "code",
   "execution_count": 79,
   "metadata": {},
   "outputs": [
    {
     "ename": "AssertionError",
     "evalue": "View function mapping is overwriting an existing endpoint function: new",
     "output_type": "error",
     "traceback": [
      "\u001b[0;31m---------------------------------------------------------------------------\u001b[0m",
      "\u001b[0;31mAssertionError\u001b[0m                            Traceback (most recent call last)",
      "Cell \u001b[0;32mIn[79], line 2\u001b[0m\n\u001b[1;32m      1\u001b[0m \u001b[38;5;66;03m#|export\u001b[39;00m\n\u001b[0;32m----> 2\u001b[0m \u001b[38;5;129;43m@app\u001b[39;49m\u001b[38;5;241;43m.\u001b[39;49m\u001b[43mroute\u001b[49m\u001b[43m(\u001b[49m\u001b[38;5;124;43m\"\u001b[39;49m\u001b[38;5;124;43m/contacts/new\u001b[39;49m\u001b[38;5;124;43m\"\u001b[39;49m\u001b[43m,\u001b[49m\u001b[43m \u001b[49m\u001b[43mmethods\u001b[49m\u001b[38;5;241;43m=\u001b[39;49m\u001b[43m[\u001b[49m\u001b[38;5;124;43m'\u001b[39;49m\u001b[38;5;124;43mGET\u001b[39;49m\u001b[38;5;124;43m'\u001b[39;49m\u001b[43m]\u001b[49m\u001b[43m)\u001b[49m\n\u001b[1;32m      3\u001b[0m \u001b[38;5;28;43;01mdef\u001b[39;49;00m\u001b[43m \u001b[49m\u001b[38;5;21;43mnew\u001b[39;49m\u001b[43m(\u001b[49m\u001b[43m)\u001b[49m\u001b[43m:\u001b[49m\n\u001b[1;32m      4\u001b[0m \u001b[43m    \u001b[49m\u001b[38;5;28;43;01mreturn\u001b[39;49;00m\u001b[43m \u001b[49m\u001b[43mrender_template\u001b[49m\u001b[43m(\u001b[49m\u001b[38;5;124;43m'\u001b[39;49m\u001b[38;5;124;43mnew.html\u001b[39;49m\u001b[38;5;124;43m'\u001b[39;49m\u001b[43m,\u001b[49m\u001b[43m \u001b[49m\u001b[43mcontact\u001b[49m\u001b[38;5;241;43m=\u001b[39;49m\u001b[43mContact\u001b[49m\u001b[43m(\u001b[49m\u001b[43mfirstname\u001b[49m\u001b[38;5;241;43m=\u001b[39;49m\u001b[38;5;28;43;01mNone\u001b[39;49;00m\u001b[43m,\u001b[49m\u001b[43m \u001b[49m\u001b[43mlastname\u001b[49m\u001b[38;5;241;43m=\u001b[39;49m\u001b[38;5;28;43;01mNone\u001b[39;49;00m\u001b[43m,\u001b[49m\u001b[43m \u001b[49m\u001b[43mphone\u001b[49m\u001b[38;5;241;43m=\u001b[39;49m\u001b[38;5;28;43;01mNone\u001b[39;49;00m\u001b[43m,\u001b[49m\u001b[43m \u001b[49m\u001b[43memail\u001b[49m\u001b[38;5;241;43m=\u001b[39;49m\u001b[38;5;28;43;01mNone\u001b[39;49;00m\u001b[43m)\u001b[49m\u001b[43m)\u001b[49m\n",
      "File \u001b[0;32m/opt/homebrew/Caskroom/miniforge/base/envs/htmx-book/lib/python3.12/site-packages/flask/sansio/scaffold.py:362\u001b[0m, in \u001b[0;36mScaffold.route.<locals>.decorator\u001b[0;34m(f)\u001b[0m\n\u001b[1;32m    360\u001b[0m \u001b[38;5;28;01mdef\u001b[39;00m \u001b[38;5;21mdecorator\u001b[39m(f: T_route) \u001b[38;5;241m-\u001b[39m\u001b[38;5;241m>\u001b[39m T_route:\n\u001b[1;32m    361\u001b[0m     endpoint \u001b[38;5;241m=\u001b[39m options\u001b[38;5;241m.\u001b[39mpop(\u001b[38;5;124m\"\u001b[39m\u001b[38;5;124mendpoint\u001b[39m\u001b[38;5;124m\"\u001b[39m, \u001b[38;5;28;01mNone\u001b[39;00m)\n\u001b[0;32m--> 362\u001b[0m     \u001b[38;5;28;43mself\u001b[39;49m\u001b[38;5;241;43m.\u001b[39;49m\u001b[43madd_url_rule\u001b[49m\u001b[43m(\u001b[49m\u001b[43mrule\u001b[49m\u001b[43m,\u001b[49m\u001b[43m \u001b[49m\u001b[43mendpoint\u001b[49m\u001b[43m,\u001b[49m\u001b[43m \u001b[49m\u001b[43mf\u001b[49m\u001b[43m,\u001b[49m\u001b[43m \u001b[49m\u001b[38;5;241;43m*\u001b[39;49m\u001b[38;5;241;43m*\u001b[39;49m\u001b[43moptions\u001b[49m\u001b[43m)\u001b[49m\n\u001b[1;32m    363\u001b[0m     \u001b[38;5;28;01mreturn\u001b[39;00m f\n",
      "File \u001b[0;32m/opt/homebrew/Caskroom/miniforge/base/envs/htmx-book/lib/python3.12/site-packages/flask/sansio/scaffold.py:47\u001b[0m, in \u001b[0;36msetupmethod.<locals>.wrapper_func\u001b[0;34m(self, *args, **kwargs)\u001b[0m\n\u001b[1;32m     45\u001b[0m \u001b[38;5;28;01mdef\u001b[39;00m \u001b[38;5;21mwrapper_func\u001b[39m(\u001b[38;5;28mself\u001b[39m: Scaffold, \u001b[38;5;241m*\u001b[39margs: t\u001b[38;5;241m.\u001b[39mAny, \u001b[38;5;241m*\u001b[39m\u001b[38;5;241m*\u001b[39mkwargs: t\u001b[38;5;241m.\u001b[39mAny) \u001b[38;5;241m-\u001b[39m\u001b[38;5;241m>\u001b[39m t\u001b[38;5;241m.\u001b[39mAny:\n\u001b[1;32m     46\u001b[0m     \u001b[38;5;28mself\u001b[39m\u001b[38;5;241m.\u001b[39m_check_setup_finished(f_name)\n\u001b[0;32m---> 47\u001b[0m     \u001b[38;5;28;01mreturn\u001b[39;00m \u001b[43mf\u001b[49m\u001b[43m(\u001b[49m\u001b[38;5;28;43mself\u001b[39;49m\u001b[43m,\u001b[49m\u001b[43m \u001b[49m\u001b[38;5;241;43m*\u001b[39;49m\u001b[43margs\u001b[49m\u001b[43m,\u001b[49m\u001b[43m \u001b[49m\u001b[38;5;241;43m*\u001b[39;49m\u001b[38;5;241;43m*\u001b[39;49m\u001b[43mkwargs\u001b[49m\u001b[43m)\u001b[49m\n",
      "File \u001b[0;32m/opt/homebrew/Caskroom/miniforge/base/envs/htmx-book/lib/python3.12/site-packages/flask/sansio/app.py:657\u001b[0m, in \u001b[0;36mApp.add_url_rule\u001b[0;34m(self, rule, endpoint, view_func, provide_automatic_options, **options)\u001b[0m\n\u001b[1;32m    655\u001b[0m old_func \u001b[38;5;241m=\u001b[39m \u001b[38;5;28mself\u001b[39m\u001b[38;5;241m.\u001b[39mview_functions\u001b[38;5;241m.\u001b[39mget(endpoint)\n\u001b[1;32m    656\u001b[0m \u001b[38;5;28;01mif\u001b[39;00m old_func \u001b[38;5;129;01mis\u001b[39;00m \u001b[38;5;129;01mnot\u001b[39;00m \u001b[38;5;28;01mNone\u001b[39;00m \u001b[38;5;129;01mand\u001b[39;00m old_func \u001b[38;5;241m!=\u001b[39m view_func:\n\u001b[0;32m--> 657\u001b[0m     \u001b[38;5;28;01mraise\u001b[39;00m \u001b[38;5;167;01mAssertionError\u001b[39;00m(\n\u001b[1;32m    658\u001b[0m         \u001b[38;5;124m\"\u001b[39m\u001b[38;5;124mView function mapping is overwriting an existing\u001b[39m\u001b[38;5;124m\"\u001b[39m\n\u001b[1;32m    659\u001b[0m         \u001b[38;5;124mf\u001b[39m\u001b[38;5;124m\"\u001b[39m\u001b[38;5;124m endpoint function: \u001b[39m\u001b[38;5;132;01m{\u001b[39;00mendpoint\u001b[38;5;132;01m}\u001b[39;00m\u001b[38;5;124m\"\u001b[39m\n\u001b[1;32m    660\u001b[0m     )\n\u001b[1;32m    661\u001b[0m \u001b[38;5;28mself\u001b[39m\u001b[38;5;241m.\u001b[39mview_functions[endpoint] \u001b[38;5;241m=\u001b[39m view_func\n",
      "\u001b[0;31mAssertionError\u001b[0m: View function mapping is overwriting an existing endpoint function: new"
     ]
    }
   ],
   "source": [
    "#|export\n",
    "@app.route(\"/contacts/new\", methods=['GET'])\n",
    "def new():\n",
    "    return render_template('new.html', contact=Contact(firstname=None, lastname=None, phone=None, email=None))"
   ]
  },
  {
   "cell_type": "code",
   "execution_count": 80,
   "metadata": {},
   "outputs": [],
   "source": [
    "#|eval:false\n",
    "from nbdev.export import nb_export\n",
    "nb_export(\"01_main.ipynb\", lib_path=\".\", name='main')"
   ]
  },
  {
   "cell_type": "code",
   "execution_count": null,
   "metadata": {},
   "outputs": [],
   "source": []
  },
  {
   "cell_type": "code",
   "execution_count": null,
   "metadata": {},
   "outputs": [],
   "source": []
  },
  {
   "cell_type": "code",
   "execution_count": null,
   "metadata": {},
   "outputs": [],
   "source": []
  }
 ],
 "metadata": {
  "kernelspec": {
   "display_name": "htmx-book",
   "language": "python",
   "name": "python3"
  },
  "language_info": {
   "codemirror_mode": {
    "name": "ipython",
    "version": 3
   },
   "file_extension": ".py",
   "mimetype": "text/x-python",
   "name": "python",
   "nbconvert_exporter": "python",
   "pygments_lexer": "ipython3",
   "version": "3.12.4"
  }
 },
 "nbformat": 4,
 "nbformat_minor": 2
}
