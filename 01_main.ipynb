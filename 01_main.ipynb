{
 "cells": [
  {
   "cell_type": "markdown",
   "metadata": {},
   "source": [
    "# Main App"
   ]
  },
  {
   "cell_type": "code",
   "execution_count": 740,
   "metadata": {},
   "outputs": [
    {
     "name": "stdout",
     "output_type": "stream",
     "text": [
      "The autoreload extension is already loaded. To reload it, use:\n",
      "  %reload_ext autoreload\n"
     ]
    }
   ],
   "source": [
    "%load_ext autoreload\n",
    "%autoreload 2"
   ]
  },
  {
   "cell_type": "code",
   "execution_count": 741,
   "metadata": {},
   "outputs": [],
   "source": [
    "#|export\n",
    "import pandas as pd\n",
    "from flask import Flask, redirect, request, render_template, flash\n",
    "from datamodel import Contact, Contacts, ContactErrors\n",
    "import re"
   ]
  },
  {
   "cell_type": "code",
   "execution_count": 742,
   "metadata": {},
   "outputs": [],
   "source": [
    "\n",
    "from IPython.display import display_html"
   ]
  },
  {
   "cell_type": "code",
   "execution_count": 743,
   "metadata": {},
   "outputs": [],
   "source": [
    "#|export\n",
    "app = Flask(__name__)\n",
    "app.secret_key = \"superdupersecret\"\n"
   ]
  },
  {
   "cell_type": "code",
   "execution_count": 744,
   "metadata": {},
   "outputs": [],
   "source": [
    "#|export\n",
    "@app.get(\"/\")\n",
    "def index():\n",
    "    return redirect(\"/contacts\")"
   ]
  },
  {
   "cell_type": "code",
   "execution_count": 745,
   "metadata": {},
   "outputs": [],
   "source": [
    "#|export\n",
    "@app.get(\"/contacts\")\n",
    "def contacts():\n",
    "    search = request.args.get(\"q\")\n",
    "    contact_set = None\n",
    "    if search is not None: contact_set = Contacts().search(search)\n",
    "    else: contact_set = Contacts().all()\n",
    "    return render_template(\"index.html\", contact_set=contact_set)"
   ]
  },
  {
   "cell_type": "code",
   "execution_count": 746,
   "metadata": {},
   "outputs": [
    {
     "data": {
      "text/plain": [
       "{'firstname': 'Jane',\n",
       " 'lastname': 'Smith',\n",
       " 'phone': '555-5678',\n",
       " 'email': 'jane.smith@example.com',\n",
       " 'id': 1}"
      ]
     },
     "execution_count": 746,
     "metadata": {},
     "output_type": "execute_result"
    }
   ],
   "source": [
    "df = Contacts().db\n",
    "df = df[df['id']==1].to_dict('records')[0]; df"
   ]
  },
  {
   "cell_type": "code",
   "execution_count": 747,
   "metadata": {},
   "outputs": [],
   "source": [
    "#|export\n",
    "@app.get(\"/contacts/<int:id>\")\n",
    "def view(id:int):\n",
    "    return render_template(\"view.html\", contact=Contacts().get(id))"
   ]
  },
  {
   "cell_type": "code",
   "execution_count": 748,
   "metadata": {},
   "outputs": [
    {
     "name": "stdout",
     "output_type": "stream",
     "text": [
      "<!doctype html>\n",
      "<html>\n",
      "    <head>\n",
      "        <title>Contact.App</title>\n",
      "        <link rel=\"stylesheet\" href=\"https://cdn.jsdelivr.net/npm/@picocss/pico@2/css/pico.min.css\">\n",
      "        <script src=\"https://unpkg.com/htmx.org@2.0.1\"></script>\n",
      "    </head>\n",
      "    <body hx-boost=\"true\">\n",
      "        <main class=\"container\">\n",
      "            <h1> CONTACTS.APP</h1>\n",
      "            <h2> A demo contact application </h2>\n",
      "            <hr>\n",
      "            \n",
      "    <article>\n",
      "        <h1>Alice Johnson </h1>\n",
      "        <div role=\"group\">\n",
      "            <div>555-8765</div>\n",
      "            <div>alice.johnson@example.com</div>\n",
      "        </div>\n",
      "        <footer role=\"group\">\n",
      "            <a href=\"/contacts\" role=\"button\">Back</a>\n",
      "            <a href=\"/contacts/2/edit\" role=\"button\">Edit</a>\n",
      "        </footer>\n",
      "    </article>\n",
      " \n",
      "        </main>\n",
      "    </body>\n",
      "</html>\n"
     ]
    }
   ],
   "source": [
    "with app.app_context():\n",
    "    print(view(2))"
   ]
  },
  {
   "cell_type": "code",
   "execution_count": 749,
   "metadata": {},
   "outputs": [
    {
     "data": {
      "text/plain": [
       "{'firstname': 'Alice',\n",
       " 'lastname': 'Johnson',\n",
       " 'phone': '555-8765',\n",
       " 'email': 'alice.johnson@example.com',\n",
       " 'id': 2}"
      ]
     },
     "execution_count": 749,
     "metadata": {},
     "output_type": "execute_result"
    }
   ],
   "source": [
    "Contacts().get(2)"
   ]
  },
  {
   "cell_type": "code",
   "execution_count": 750,
   "metadata": {},
   "outputs": [],
   "source": [
    "#|export\n",
    "@app.route(\"/contacts/<int:id>/edit\", methods=['GET', 'POST'])\n",
    "def edit(id):\n",
    "    if request.method == 'GET':\n",
    "        c_dict = Contacts().get(id)\n",
    "        c = Contact()\n",
    "        c.from_contacts_dict(c_dict)\n",
    "        c.check_valid(duplicate_ok=True)\n",
    "        return render_template('edit.html', contact=c)\n",
    "    else:\n",
    "        c_dict = Contacts().get(id)\n",
    "        c = Contact()\n",
    "        c.from_contacts_dict(c_dict)\n",
    "        c.firstname = request.form['firstname']\n",
    "        c.lastname = request.form['lastname']\n",
    "        c.phone=request.form['phone']\n",
    "        c.email=request.form['email']\n",
    "        c.check_valid(duplicate_ok=True)\n",
    "        if c.commit(duplicate_ok=True):\n",
    "            flash(\"Updated Contract\")\n",
    "            return redirect(\"/contacts/\"+str(id))\n",
    "        else: return render_template('edit.html', contact=c)"
   ]
  },
  {
   "cell_type": "code",
   "execution_count": 751,
   "metadata": {},
   "outputs": [],
   "source": [
    "#|export\n",
    "@app.route(\"/contacts/<int:id>/delete\", methods=['POST'])\n",
    "def delete(id):\n",
    "    Contacts().delete(id)\n",
    "    flash(\"Contract Deleted\")\n",
    "    return redirect(\"/contacts\")"
   ]
  },
  {
   "cell_type": "code",
   "execution_count": 752,
   "metadata": {},
   "outputs": [],
   "source": [
    "#|export\n",
    "@app.route(\"/contacts/<int:id>\", methods=['DELETE'])\n",
    "def delete_htmx(id):\n",
    "    Contacts().delete(id)\n",
    "    flash(\"Contract Deleted\")\n",
    "    return redirect(\"/contacts\", 303)"
   ]
  },
  {
   "cell_type": "code",
   "execution_count": 753,
   "metadata": {},
   "outputs": [],
   "source": [
    "contact=Contact(firstname=None, lastname=None, phone=None, email=None)\n",
    "contact.firstname"
   ]
  },
  {
   "cell_type": "code",
   "execution_count": 754,
   "metadata": {},
   "outputs": [],
   "source": [
    "#|export\n",
    "@app.route(\"/contacts/new\", methods=['GET'])\n",
    "def contact_new_get():\n",
    "    return render_template('new.html', contact=Contact(firstname=None, lastname=None, phone=None, email=None))"
   ]
  },
  {
   "cell_type": "code",
   "execution_count": 755,
   "metadata": {},
   "outputs": [],
   "source": [
    "#|export\n",
    "@app.route(\"/contacts/new\", methods=['POST'])\n",
    "def contact_new():\n",
    "    c = Contact(firstname=request.form['firstname'], \n",
    "                lastname=request.form['lastname'],\n",
    "                phone=request.form['phone'],\n",
    "                email=request.form['email'])\n",
    "    c.check_valid(duplicate_ok=False)\n",
    "    if c.commit(duplicate_ok=False):\n",
    "        flash(\"New contract created\")\n",
    "        return redirect(\"/contacts\")\n",
    "    else: \n",
    "        print(c)\n",
    "        return render_template('new.html', contact=c)"
   ]
  },
  {
   "cell_type": "code",
   "execution_count": 762,
   "metadata": {},
   "outputs": [],
   "source": [
    "#|eval:false\n",
    "from nbdev.export import nb_export\n",
    "nb_export(\"01_main.ipynb\", lib_path=\".\", name='main')"
   ]
  },
  {
   "cell_type": "code",
   "execution_count": 759,
   "metadata": {},
   "outputs": [],
   "source": []
  },
  {
   "cell_type": "code",
   "execution_count": null,
   "metadata": {},
   "outputs": [],
   "source": []
  },
  {
   "cell_type": "code",
   "execution_count": null,
   "metadata": {},
   "outputs": [],
   "source": []
  },
  {
   "cell_type": "code",
   "execution_count": null,
   "metadata": {},
   "outputs": [],
   "source": []
  },
  {
   "cell_type": "code",
   "execution_count": null,
   "metadata": {},
   "outputs": [],
   "source": []
  },
  {
   "cell_type": "code",
   "execution_count": null,
   "metadata": {},
   "outputs": [],
   "source": []
  }
 ],
 "metadata": {
  "kernelspec": {
   "display_name": "htmx-book",
   "language": "python",
   "name": "python3"
  },
  "language_info": {
   "codemirror_mode": {
    "name": "ipython",
    "version": 3
   },
   "file_extension": ".py",
   "mimetype": "text/x-python",
   "name": "python",
   "nbconvert_exporter": "python",
   "pygments_lexer": "ipython3",
   "version": "3.12.4"
  }
 },
 "nbformat": 4,
 "nbformat_minor": 2
}
