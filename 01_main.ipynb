{
 "cells": [
  {
   "cell_type": "markdown",
   "metadata": {},
   "source": [
    "# Main App"
   ]
  },
  {
   "cell_type": "code",
   "execution_count": 1174,
   "metadata": {},
   "outputs": [
    {
     "name": "stdout",
     "output_type": "stream",
     "text": [
      "The autoreload extension is already loaded. To reload it, use:\n",
      "  %reload_ext autoreload\n"
     ]
    }
   ],
   "source": [
    "%load_ext autoreload\n",
    "%autoreload 2"
   ]
  },
  {
   "cell_type": "code",
   "execution_count": 1175,
   "metadata": {},
   "outputs": [],
   "source": [
    "#|export\n",
    "import pandas as pd\n",
    "from flask import Flask, redirect, request, render_template, flash\n",
    "from dataclasses import dataclass\n",
    "import re"
   ]
  },
  {
   "cell_type": "code",
   "execution_count": 1176,
   "metadata": {},
   "outputs": [],
   "source": [
    "\n",
    "from IPython.display import display_html"
   ]
  },
  {
   "cell_type": "code",
   "execution_count": 1177,
   "metadata": {},
   "outputs": [],
   "source": [
    "people = [\n",
    "    {\n",
    "        \"firstname\": \"John\",\n",
    "        \"lastname\": \"Doe\",\n",
    "        \"phone\": \"555-1234\",\n",
    "        \"email\": \"john.doe@example.com\"\n",
    "    },\n",
    "    {\n",
    "        \"firstname\": \"Jane\",\n",
    "        \"lastname\": \"Smith\",\n",
    "        \"phone\": \"555-5678\",\n",
    "        \"email\": \"jane.smith@example.com\"\n",
    "    },\n",
    "    {\n",
    "        \"firstname\": \"Alice\",\n",
    "        \"lastname\": \"Johnson\",\n",
    "        \"phone\": \"555-8765\",\n",
    "        \"email\": \"alice.johnson@example.com\"\n",
    "    },\n",
    "    {\n",
    "        \"firstname\": \"Bob\",\n",
    "        \"lastname\": \"Williams\",\n",
    "        \"phone\": \"555-4321\",\n",
    "        \"email\": \"bob.williams@example.com\"\n",
    "    },\n",
    "    {\n",
    "        \"firstname\": \"Charlie\",\n",
    "        \"lastname\": \"Brown\",\n",
    "        \"phone\": \"555-9876\",\n",
    "        \"email\": \"charlie.brown@example.com\"\n",
    "    },\n",
    "    {\n",
    "        \"firstname\": \"Diana\",\n",
    "        \"lastname\": \"Miller\",\n",
    "        \"phone\": \"555-6543\",\n",
    "        \"email\": \"diana.miller@example.com\"\n",
    "    },\n",
    "    {\n",
    "        \"firstname\": \"Edward\",\n",
    "        \"lastname\": \"Davis\",\n",
    "        \"phone\": \"555-3456\",\n",
    "        \"email\": \"edward.davis@example.com\"\n",
    "    },\n",
    "    {\n",
    "        \"firstname\": \"Fiona\",\n",
    "        \"lastname\": \"Garcia\",\n",
    "        \"phone\": \"555-6789\",\n",
    "        \"email\": \"fiona.garcia@example.com\"\n",
    "    },\n",
    "    {\n",
    "        \"firstname\": \"George\",\n",
    "        \"lastname\": \"Martinez\",\n",
    "        \"phone\": \"555-7890\",\n",
    "        \"email\": \"george.martinez@example.com\"\n",
    "    },\n",
    "    {\n",
    "        \"firstname\": \"Hannah\",\n",
    "        \"lastname\": \"Rodriguez\",\n",
    "        \"phone\": \"555-8901\",\n",
    "        \"email\": \"hannah.rodriguez@example.com\"\n",
    "    }\n",
    "]\n",
    "\n",
    "# Writing the JSON data to a file\n",
    "file_path = 'contactdb.json'\n",
    "# df = pd.read_json(file_path)\n",
    "df = pd.DataFrame()\n",
    "df = df.from_dict(people)\n",
    "df['id'] = df.index\n",
    "df.to_json(file_path, orient='records')"
   ]
  },
  {
   "cell_type": "code",
   "execution_count": 1178,
   "metadata": {},
   "outputs": [
    {
     "data": {
      "text/plain": [
       "[{'firstname': 'John',\n",
       "  'lastname': 'Doe',\n",
       "  'phone': '555-1234',\n",
       "  'email': 'john.doe@example.com',\n",
       "  'id': 0},\n",
       " {'firstname': 'Jane',\n",
       "  'lastname': 'Smith',\n",
       "  'phone': '555-5678',\n",
       "  'email': 'jane.smith@example.com',\n",
       "  'id': 1},\n",
       " {'firstname': 'Alice',\n",
       "  'lastname': 'Johnson',\n",
       "  'phone': '555-8765',\n",
       "  'email': 'alice.johnson@example.com',\n",
       "  'id': 2},\n",
       " {'firstname': 'Bob',\n",
       "  'lastname': 'Williams',\n",
       "  'phone': '555-4321',\n",
       "  'email': 'bob.williams@example.com',\n",
       "  'id': 3},\n",
       " {'firstname': 'Charlie',\n",
       "  'lastname': 'Brown',\n",
       "  'phone': '555-9876',\n",
       "  'email': 'charlie.brown@example.com',\n",
       "  'id': 4},\n",
       " {'firstname': 'Diana',\n",
       "  'lastname': 'Miller',\n",
       "  'phone': '555-6543',\n",
       "  'email': 'diana.miller@example.com',\n",
       "  'id': 5},\n",
       " {'firstname': 'Edward',\n",
       "  'lastname': 'Davis',\n",
       "  'phone': '555-3456',\n",
       "  'email': 'edward.davis@example.com',\n",
       "  'id': 6},\n",
       " {'firstname': 'Fiona',\n",
       "  'lastname': 'Garcia',\n",
       "  'phone': '555-6789',\n",
       "  'email': 'fiona.garcia@example.com',\n",
       "  'id': 7},\n",
       " {'firstname': 'George',\n",
       "  'lastname': 'Martinez',\n",
       "  'phone': '555-7890',\n",
       "  'email': 'george.martinez@example.com',\n",
       "  'id': 8},\n",
       " {'firstname': 'Hannah',\n",
       "  'lastname': 'Rodriguez',\n",
       "  'phone': '555-8901',\n",
       "  'email': 'hannah.rodriguez@example.com',\n",
       "  'id': 9}]"
      ]
     },
     "execution_count": 1178,
     "metadata": {},
     "output_type": "execute_result"
    }
   ],
   "source": [
    "db = pd.read_json('contactdb.json')\n",
    "db.to_dict('records')"
   ]
  },
  {
   "cell_type": "code",
   "execution_count": 1179,
   "metadata": {},
   "outputs": [
    {
     "data": {
      "text/html": [
       "<div>\n",
       "<style scoped>\n",
       "    .dataframe tbody tr th:only-of-type {\n",
       "        vertical-align: middle;\n",
       "    }\n",
       "\n",
       "    .dataframe tbody tr th {\n",
       "        vertical-align: top;\n",
       "    }\n",
       "\n",
       "    .dataframe thead th {\n",
       "        text-align: right;\n",
       "    }\n",
       "</style>\n",
       "<table border=\"1\" class=\"dataframe\">\n",
       "  <thead>\n",
       "    <tr style=\"text-align: right;\">\n",
       "      <th></th>\n",
       "      <th>firstname</th>\n",
       "      <th>lastname</th>\n",
       "      <th>phone</th>\n",
       "      <th>email</th>\n",
       "      <th>id</th>\n",
       "    </tr>\n",
       "  </thead>\n",
       "  <tbody>\n",
       "    <tr>\n",
       "      <th>0</th>\n",
       "      <td>John</td>\n",
       "      <td>Doe</td>\n",
       "      <td>555-1234</td>\n",
       "      <td>john.doe@example.com</td>\n",
       "      <td>0</td>\n",
       "    </tr>\n",
       "  </tbody>\n",
       "</table>\n",
       "</div>"
      ],
      "text/plain": [
       "  firstname lastname     phone                 email  id\n",
       "0      John      Doe  555-1234  john.doe@example.com   0"
      ]
     },
     "execution_count": 1179,
     "metadata": {},
     "output_type": "execute_result"
    }
   ],
   "source": [
    "q = '1234'\n",
    "# db[db['firstname'].str.lower().str.contains(q)]\n",
    "predicate_firstname = db['firstname'].str.lower().str.contains(q.lower())\n",
    "predicate_lastname = db['lastname'].str.lower().str.contains(q.lower())\n",
    "predicate_phone = db['phone'].str.lower().str.contains(q.lower())\n",
    "predicate_email= db['email'].str.lower().str.contains(q.lower())\n",
    "db[predicate_firstname|predicate_lastname|predicate_phone|predicate_email]"
   ]
  },
  {
   "cell_type": "code",
   "execution_count": 1180,
   "metadata": {},
   "outputs": [],
   "source": [
    "db.columns\n",
    "\n",
    "a={'firstname': 'Rahul',\n",
    "   'lastname': 'Saraf',\n",
    "    'phone':'7347399',\n",
    "    'email': 'rahuketu86'}\n",
    "a['id'] = len(db)\n",
    "# db.loc[len(db)] = \n",
    "a\n",
    "db.loc[len(db), a.keys()] = a.values()"
   ]
  },
  {
   "cell_type": "code",
   "execution_count": null,
   "metadata": {},
   "outputs": [],
   "source": []
  },
  {
   "cell_type": "code",
   "execution_count": 1181,
   "metadata": {},
   "outputs": [],
   "source": [
    "#|export\n",
    "class ContactErrors:\n",
    "    firstname:str = \"Error in Firstname\"\n",
    "    lastname:str = \"Error in Lastname\"\n",
    "    phone:str = \"Error in Phone\"\n",
    "    email:str = \"Error in Email\""
   ]
  },
  {
   "cell_type": "code",
   "execution_count": 1182,
   "metadata": {},
   "outputs": [
    {
     "data": {
      "text/plain": [
       "<__main__.ContactErrors at 0x127052450>"
      ]
     },
     "execution_count": 1182,
     "metadata": {},
     "output_type": "execute_result"
    }
   ],
   "source": [
    "ContactErrors()"
   ]
  },
  {
   "cell_type": "code",
   "execution_count": 1183,
   "metadata": {},
   "outputs": [],
   "source": [
    "#|export\n",
    "\n",
    "# Regular expression pattern for validating email\n",
    "email_regex = r'^[a-zA-Z0-9_.+-]+@[a-zA-Z0-9-]+\\.[a-zA-Z0-9-.]+$'\n",
    "phone_regex =  r'^(?:\\d{7,}|\\d{1,}-\\d{1,}-?\\d{5,}|\\d+-\\d{7,}|\\d{3}-\\d{4})$'"
   ]
  },
  {
   "cell_type": "code",
   "execution_count": 1184,
   "metadata": {},
   "outputs": [],
   "source": [
    "#|export\n",
    "\n",
    "# Function to validate email\n",
    "def validate_email(email):\n",
    "    if re.match(email_regex, email): return True\n",
    "    else: return False"
   ]
  },
  {
   "cell_type": "code",
   "execution_count": 1185,
   "metadata": {},
   "outputs": [],
   "source": [
    "#|export\n",
    "\n",
    "# Function to validate phone number\n",
    "def validate_phone_number(phone_number):\n",
    "    if re.match(phone_regex, phone_number): return True\n",
    "    else: return False"
   ]
  },
  {
   "cell_type": "code",
   "execution_count": 1186,
   "metadata": {},
   "outputs": [
    {
     "name": "stdout",
     "output_type": "stream",
     "text": [
      "555-1234: Valid phone number\n",
      "917347306788: Valid phone number\n",
      "7237424: Valid phone number\n",
      "123-456: Invalid phone number\n",
      "123-456-7890: Invalid phone number\n",
      "123--456: Invalid phone number\n",
      "123-45: Invalid phone number\n"
     ]
    }
   ],
   "source": [
    "\n",
    "# Example usage\n",
    "phone_numbers = [\"555-1234\", \"917347306788\", \"7237424\", \"123-456\", \"123-456-7890\", \"123--456\", \"123-45\"]\n",
    "for number in phone_numbers:\n",
    "    if validate_phone_number(number):\n",
    "        print(f\"{number}: Valid phone number\")\n",
    "    else:\n",
    "        print(f\"{number}: Invalid phone number\")"
   ]
  },
  {
   "cell_type": "code",
   "execution_count": 1187,
   "metadata": {},
   "outputs": [
    {
     "name": "stdout",
     "output_type": "stream",
     "text": [
      "Invalid email\n"
     ]
    }
   ],
   "source": [
    "\n",
    "# Example usage\n",
    "email = \"example@example.com\"\n",
    "email = \"rahuketu\"\n",
    "if validate_email(email):\n",
    "    print(\"Valid email\")\n",
    "else:\n",
    "    print(\"Invalid email\")"
   ]
  },
  {
   "cell_type": "code",
   "execution_count": 1188,
   "metadata": {},
   "outputs": [],
   "source": [
    "#|export\n",
    "@dataclass\n",
    "class Contact:\n",
    "    firstname:str=None\n",
    "    lastname:str=None\n",
    "    phone:str=None\n",
    "    email:str=None\n",
    "    id: int =None\n",
    "    errors:ContactErrors = ContactErrors()\n",
    "\n",
    "    def from_contacts_dict(self, c):\n",
    "        self.firstname = c['firstname']\n",
    "        self.lastname = c['lastname']\n",
    "        self.phone = c['phone']\n",
    "        self.email = c['email']\n",
    "        self.id = c['id']\n",
    "\n",
    "    def save(self):\n",
    "        if not self.validate(): return False\n",
    "        else: \n",
    "            db = Contacts()\n",
    "            db.add(firstname = self.firstname, \n",
    "                   lastname = self.lastname, \n",
    "                   phone=self.phone, \n",
    "                   email=self.email)\n",
    "            return True\n",
    "        \n",
    "    def edit(self):\n",
    "        if not self.validate(): return False\n",
    "        else:\n",
    "            db = Contacts()\n",
    "            db.edit(id=self.id,\n",
    "                    firstname = self.firstname, \n",
    "                    lastname = self.lastname, \n",
    "                    phone=self.phone, \n",
    "                    email=self.email)\n",
    "            return True\n",
    "\n",
    "\n",
    "    def validate(self):\n",
    "        if not self._check_nones([self.firstname, self.lastname, self.phone, self.email]): return False\n",
    "        elif not validate_email(self.email): return False\n",
    "        elif not validate_phone_number(self.phone): return False\n",
    "        else:\n",
    "            # print(\"Validated\") \n",
    "            return True\n",
    "\n",
    "    def _check_nones(self, ls):\n",
    "        for e in ls: \n",
    "            # print(e)\n",
    "            if e is None or e == \"\": \n",
    "                # print(e, \"Noness or empty\")\n",
    "                return False\n",
    "        return True\n",
    "        "
   ]
  },
  {
   "cell_type": "code",
   "execution_count": 1189,
   "metadata": {},
   "outputs": [
    {
     "data": {
      "text/plain": [
       "Contact(firstname=None, lastname=None, phone=None, email=None, id=None, errors=<__main__.ContactErrors object at 0x127053c80>)"
      ]
     },
     "execution_count": 1189,
     "metadata": {},
     "output_type": "execute_result"
    }
   ],
   "source": [
    "Contact()"
   ]
  },
  {
   "cell_type": "code",
   "execution_count": 1190,
   "metadata": {},
   "outputs": [],
   "source": [
    "#|export\n",
    "class Contacts(object):\n",
    "    def __init__(self) -> None:\n",
    "        self.refresh()\n",
    "\n",
    "    def search(self, q):\n",
    "        predicate_firstname = self.db['firstname'].str.lower().str.contains(q.lower())\n",
    "        predicate_lastname = self.db['lastname'].str.lower().str.contains(q.lower())\n",
    "        predicate_phone = self.db['phone'].str.lower().str.contains(q.lower())\n",
    "        predicate_email= self.db['email'].str.lower().str.contains(q.lower())\n",
    "        filter_df = self.db[predicate_firstname|predicate_lastname|predicate_phone|predicate_email]\n",
    "        return filter_df.to_dict('records')\n",
    "    \n",
    "    def refresh(self):\n",
    "        self.file_path = 'contactdb.json'\n",
    "        self.db = pd.read_json(self.file_path)\n",
    "\n",
    "    def all(self):\n",
    "        return self.db.to_dict('records')\n",
    "    \n",
    "    def get(self, id):\n",
    "        contact = self.db[self.db['id']==id]\n",
    "        # print(contact)\n",
    "        return contact.to_dict('records')[0]\n",
    "    \n",
    "    def add(self, firstname, lastname, phone, email):\n",
    "        a={'firstname': firstname,\n",
    "           'lastname': lastname,\n",
    "           'phone':phone,\n",
    "           'email': email}\n",
    "        a['id'] = len(self.db)\n",
    "        self.db.loc[len(self.db), a.keys()] = a.values()\n",
    "        self.db.to_json(self.file_path, orient='records')\n",
    "        self.refresh()\n",
    "\n",
    "    def delete(self, id):\n",
    "        self.db.drop(index=id, inplace=True, errors='raise')\n",
    "        self.db.to_json(self.file_path, orient='records')\n",
    "        self.refresh()\n",
    "\n",
    "    def edit(self, id, firstname, lastname, phone, email):\n",
    "        a={'firstname': firstname,\n",
    "           'lastname': lastname,\n",
    "           'phone':phone,\n",
    "           'email': email,\n",
    "           'id': id}\n",
    "        self.db.loc[id, a.keys()] = a.values()\n",
    "        self.db.to_json(self.file_path, orient='records')\n",
    "        self.refresh()\n"
   ]
  },
  {
   "cell_type": "code",
   "execution_count": 1191,
   "metadata": {},
   "outputs": [
    {
     "data": {
      "text/plain": [
       "True"
      ]
     },
     "execution_count": 1191,
     "metadata": {},
     "output_type": "execute_result"
    }
   ],
   "source": [
    "c_set = Contacts()\n",
    "c_dict = c_set.get(0)\n",
    "c_dict\n",
    "c = Contact()\n",
    "c.from_contacts_dict(c_dict)\n",
    "c.phone = '555-1212'\n",
    "c.edit()"
   ]
  },
  {
   "cell_type": "code",
   "execution_count": 1192,
   "metadata": {},
   "outputs": [
    {
     "ename": "TypeError",
     "evalue": "Contact.edit() takes 1 positional argument but 6 were given",
     "output_type": "error",
     "traceback": [
      "\u001b[0;31m---------------------------------------------------------------------------\u001b[0m",
      "\u001b[0;31mTypeError\u001b[0m                                 Traceback (most recent call last)",
      "Cell \u001b[0;32mIn[1192], line 2\u001b[0m\n\u001b[1;32m      1\u001b[0m new_vals \u001b[38;5;241m=\u001b[39m [\u001b[38;5;241m2\u001b[39m, \u001b[38;5;124m'\u001b[39m\u001b[38;5;124mAlice\u001b[39m\u001b[38;5;124m'\u001b[39m, \u001b[38;5;124m'\u001b[39m\u001b[38;5;124mJohnson\u001b[39m\u001b[38;5;124m'\u001b[39m, \u001b[38;5;124m'\u001b[39m\u001b[38;5;124m555-8767\u001b[39m\u001b[38;5;124m'\u001b[39m, \u001b[38;5;124m'\u001b[39m\u001b[38;5;124malice.johnson@example.com\u001b[39m\u001b[38;5;124m'\u001b[39m]\n\u001b[0;32m----> 2\u001b[0m \u001b[43mc\u001b[49m\u001b[38;5;241;43m.\u001b[39;49m\u001b[43medit\u001b[49m\u001b[43m(\u001b[49m\u001b[38;5;241;43m*\u001b[39;49m\u001b[43mnew_vals\u001b[49m\u001b[43m)\u001b[49m\n\u001b[1;32m      3\u001b[0m c\u001b[38;5;241m.\u001b[39mget(\u001b[38;5;241m2\u001b[39m)\n",
      "\u001b[0;31mTypeError\u001b[0m: Contact.edit() takes 1 positional argument but 6 were given"
     ]
    }
   ],
   "source": [
    "new_vals = [2, 'Alice', 'Johnson', '555-8767', 'alice.johnson@example.com']\n",
    "c.edit(*new_vals)\n",
    "c.get(2)"
   ]
  },
  {
   "cell_type": "code",
   "execution_count": 1193,
   "metadata": {},
   "outputs": [
    {
     "data": {
      "text/plain": [
       "[{'firstname': 'Jane',\n",
       "  'lastname': 'Smith',\n",
       "  'phone': '555-5678',\n",
       "  'email': 'jane.smith@example.com',\n",
       "  'id': 1},\n",
       " {'firstname': 'Alice',\n",
       "  'lastname': 'Johnson',\n",
       "  'phone': '555-8765',\n",
       "  'email': 'alice.johnson@example.com',\n",
       "  'id': 2},\n",
       " {'firstname': 'Bob',\n",
       "  'lastname': 'Williams',\n",
       "  'phone': '555-4321',\n",
       "  'email': 'bob.williams@example.com',\n",
       "  'id': 3},\n",
       " {'firstname': 'Charlie',\n",
       "  'lastname': 'Brown',\n",
       "  'phone': '555-9876',\n",
       "  'email': 'charlie.brown@example.com',\n",
       "  'id': 4},\n",
       " {'firstname': 'Diana',\n",
       "  'lastname': 'Miller',\n",
       "  'phone': '555-6543',\n",
       "  'email': 'diana.miller@example.com',\n",
       "  'id': 5},\n",
       " {'firstname': 'Edward',\n",
       "  'lastname': 'Davis',\n",
       "  'phone': '555-3456',\n",
       "  'email': 'edward.davis@example.com',\n",
       "  'id': 6},\n",
       " {'firstname': 'Fiona',\n",
       "  'lastname': 'Garcia',\n",
       "  'phone': '555-6789',\n",
       "  'email': 'fiona.garcia@example.com',\n",
       "  'id': 7},\n",
       " {'firstname': 'George',\n",
       "  'lastname': 'Martinez',\n",
       "  'phone': '555-7890',\n",
       "  'email': 'george.martinez@example.com',\n",
       "  'id': 8},\n",
       " {'firstname': 'Hannah',\n",
       "  'lastname': 'Rodriguez',\n",
       "  'phone': '555-8901',\n",
       "  'email': 'hannah.rodriguez@example.com',\n",
       "  'id': 9},\n",
       " {'firstname': 'John',\n",
       "  'lastname': 'Doe',\n",
       "  'phone': '555-1212',\n",
       "  'email': 'john.doe@example.com',\n",
       "  'id': 9}]"
      ]
     },
     "execution_count": 1193,
     "metadata": {},
     "output_type": "execute_result"
    }
   ],
   "source": [
    "c = Contacts()\n",
    "a_dict = c.db.loc[0].to_dict()\n",
    "a_dict.pop('id', None); a_dict\n",
    "c.delete(0)\n",
    "\n",
    "c.add(*list(a_dict.values()))\n",
    "c.all()\n",
    "\n",
    "\n"
   ]
  },
  {
   "cell_type": "code",
   "execution_count": 1194,
   "metadata": {},
   "outputs": [],
   "source": [
    "#|export\n",
    "app = Flask(__name__)\n",
    "app.secret_key = \"superdupersecret\"\n"
   ]
  },
  {
   "cell_type": "code",
   "execution_count": 1195,
   "metadata": {},
   "outputs": [],
   "source": [
    "#|export\n",
    "@app.get(\"/\")\n",
    "def index():\n",
    "    return redirect(\"/contacts\")"
   ]
  },
  {
   "cell_type": "code",
   "execution_count": 1196,
   "metadata": {},
   "outputs": [],
   "source": [
    "#|export\n",
    "@app.get(\"/contacts\")\n",
    "def contacts():\n",
    "    search = request.args.get(\"q\")\n",
    "    contact_set = None\n",
    "    if search is not None: contact_set = Contacts().search(search)\n",
    "    else: contact_set = Contacts().all()\n",
    "    # print(contact_set)\n",
    "    return render_template(\"index.html\", contact_set=contact_set)"
   ]
  },
  {
   "cell_type": "code",
   "execution_count": 1197,
   "metadata": {},
   "outputs": [
    {
     "data": {
      "text/plain": [
       "{'firstname': 'Alice',\n",
       " 'lastname': 'Johnson',\n",
       " 'phone': '555-8765',\n",
       " 'email': 'alice.johnson@example.com',\n",
       " 'id': 2}"
      ]
     },
     "execution_count": 1197,
     "metadata": {},
     "output_type": "execute_result"
    }
   ],
   "source": [
    "Contacts().db[df['id']==1].to_dict('records')[0]"
   ]
  },
  {
   "cell_type": "code",
   "execution_count": 1198,
   "metadata": {},
   "outputs": [],
   "source": [
    "#|export\n",
    "@app.get(\"/contacts/<int:id>\")\n",
    "def view(id:int):\n",
    "    return render_template(\"view.html\", contact=Contacts().get(id))"
   ]
  },
  {
   "cell_type": "code",
   "execution_count": 1199,
   "metadata": {},
   "outputs": [
    {
     "name": "stdout",
     "output_type": "stream",
     "text": [
      "<!doctype html>\n",
      "<html>\n",
      "    <head>\n",
      "        <title>Contact.App</title>\n",
      "        <link rel=\"stylesheet\" href=\"https://cdn.jsdelivr.net/npm/@picocss/pico@2/css/pico.min.css\">\n",
      "    </head>\n",
      "    <body>\n",
      "        <main class=\"container\">\n",
      "            <h1> CONTACTS.APP</h1>\n",
      "            <h2> A demo contact application </h2>\n",
      "            <hr>\n",
      "            \n",
      "    <article>\n",
      "        <h1>Alice Johnson </h1>\n",
      "        <div role=\"group\">\n",
      "            <div>555-8765</div>\n",
      "            <div>alice.johnson@example.com</div>\n",
      "        </div>\n",
      "        <footer role=\"group\">\n",
      "            <a href=\"/contacts\" role=\"button\">Back</a>\n",
      "            <a href=\"/contacts/2/edit\" role=\"button\">Edit</a>\n",
      "        </footer>\n",
      "    </article>\n",
      " \n",
      "        </main>\n",
      "    </body>\n",
      "</html>\n"
     ]
    }
   ],
   "source": [
    "with app.app_context():\n",
    "    print(view(2))"
   ]
  },
  {
   "cell_type": "code",
   "execution_count": 1200,
   "metadata": {},
   "outputs": [
    {
     "data": {
      "text/plain": [
       "{'firstname': 'Alice',\n",
       " 'lastname': 'Johnson',\n",
       " 'phone': '555-8765',\n",
       " 'email': 'alice.johnson@example.com',\n",
       " 'id': 2}"
      ]
     },
     "execution_count": 1200,
     "metadata": {},
     "output_type": "execute_result"
    }
   ],
   "source": [
    "Contacts().get(2)"
   ]
  },
  {
   "cell_type": "code",
   "execution_count": 1201,
   "metadata": {},
   "outputs": [],
   "source": [
    "#|export\n",
    "@app.route(\"/contacts/<int:id>/edit\", methods=['GET', 'POST'])\n",
    "def edit(id):\n",
    "    if request.method == 'GET':\n",
    "        c_dict = Contacts().get(id)\n",
    "        return render_template('edit.html', contact=c_dict)\n",
    "    else:\n",
    "        c_dict = Contacts().get(id)\n",
    "        c = Contact()\n",
    "        c.from_contacts_dict(c_dict)\n",
    "        c.firstname = request.form['firstname']\n",
    "        c.lastname = request.form['lastname']\n",
    "        c.phone=request.form['phone']\n",
    "        c.email=request.form['email']\n",
    "        if c.edit():\n",
    "            flash(\"Updated Contract\")\n",
    "            return redirect(\"/contacts/\"+str(id))\n",
    "        else: return render_template('edit.html', contact=c_dict)"
   ]
  },
  {
   "cell_type": "code",
   "execution_count": 1202,
   "metadata": {},
   "outputs": [],
   "source": [
    "#|export\n",
    "@app.route(\"/contacts/<int:id>/delete\", methods=['POST'])\n",
    "def delete(id):\n",
    "    Contacts().delete(id)\n",
    "    return redirect(\"/contacts\")"
   ]
  },
  {
   "cell_type": "code",
   "execution_count": 1203,
   "metadata": {},
   "outputs": [],
   "source": [
    "\n",
    "# c_set = Contacts()\n",
    "# c_dict = c_set.get(0)\n",
    "# c_dict\n",
    "# c = Contact()\n",
    "# c.from_contacts_dict(c_dict)\n",
    "# c.phone = '555-1212'\n",
    "# c.edit()"
   ]
  },
  {
   "cell_type": "code",
   "execution_count": 1204,
   "metadata": {},
   "outputs": [],
   "source": [
    "contact=Contact(firstname=None, lastname=None, phone=None, email=None)\n",
    "contact.firstname"
   ]
  },
  {
   "cell_type": "code",
   "execution_count": 1205,
   "metadata": {},
   "outputs": [],
   "source": [
    "#|export\n",
    "@app.route(\"/contacts/new\", methods=['GET'])\n",
    "def contact_new_get():\n",
    "    return render_template('new.html', contact=Contact(firstname=None, lastname=None, phone=None, email=None))"
   ]
  },
  {
   "cell_type": "code",
   "execution_count": 1206,
   "metadata": {},
   "outputs": [],
   "source": [
    "#|export\n",
    "@app.route(\"/contacts/new\", methods=['POST'])\n",
    "def contact_new():\n",
    "    c = Contact(firstname=request.form['firstname'], \n",
    "                lastname=request.form['lastname'],\n",
    "                phone=request.form['phone'],\n",
    "                email=request.form['email'])\n",
    "    if c.save():\n",
    "        flash(\"New contract created\")\n",
    "        return redirect(\"/contacts\")\n",
    "    else: return render_template('new.html', contact=c)"
   ]
  },
  {
   "cell_type": "code",
   "execution_count": 1207,
   "metadata": {},
   "outputs": [],
   "source": [
    "#|eval:false\n",
    "from nbdev.export import nb_export\n",
    "nb_export(\"01_main.ipynb\", lib_path=\".\", name='main')"
   ]
  },
  {
   "cell_type": "code",
   "execution_count": null,
   "metadata": {},
   "outputs": [],
   "source": []
  },
  {
   "cell_type": "code",
   "execution_count": null,
   "metadata": {},
   "outputs": [],
   "source": []
  },
  {
   "cell_type": "code",
   "execution_count": null,
   "metadata": {},
   "outputs": [],
   "source": []
  },
  {
   "cell_type": "code",
   "execution_count": null,
   "metadata": {},
   "outputs": [],
   "source": []
  }
 ],
 "metadata": {
  "kernelspec": {
   "display_name": "htmx-book",
   "language": "python",
   "name": "python3"
  },
  "language_info": {
   "codemirror_mode": {
    "name": "ipython",
    "version": 3
   },
   "file_extension": ".py",
   "mimetype": "text/x-python",
   "name": "python",
   "nbconvert_exporter": "python",
   "pygments_lexer": "ipython3",
   "version": "3.12.4"
  }
 },
 "nbformat": 4,
 "nbformat_minor": 2
}
