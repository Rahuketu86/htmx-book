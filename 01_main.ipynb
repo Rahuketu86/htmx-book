{
 "cells": [
  {
   "cell_type": "markdown",
   "metadata": {},
   "source": [
    "# Main App"
   ]
  },
  {
   "cell_type": "code",
   "execution_count": 55,
   "metadata": {},
   "outputs": [
    {
     "name": "stdout",
     "output_type": "stream",
     "text": [
      "The autoreload extension is already loaded. To reload it, use:\n",
      "  %reload_ext autoreload\n"
     ]
    }
   ],
   "source": [
    "%load_ext autoreload\n",
    "%autoreload 2"
   ]
  },
  {
   "cell_type": "code",
   "execution_count": 56,
   "metadata": {},
   "outputs": [],
   "source": [
    "#|export\n",
    "import pandas as pd\n",
    "from flask import Flask, redirect, request\n",
    "from flask import render_template\n",
    "import json"
   ]
  },
  {
   "cell_type": "code",
   "execution_count": 57,
   "metadata": {},
   "outputs": [
    {
     "data": {
      "text/plain": [
       "'contactdb.json'"
      ]
     },
     "execution_count": 57,
     "metadata": {},
     "output_type": "execute_result"
    }
   ],
   "source": [
    "people = [\n",
    "    {\n",
    "        \"firstname\": \"John\",\n",
    "        \"lastname\": \"Doe\",\n",
    "        \"phone\": \"555-1234\",\n",
    "        \"email\": \"john.doe@example.com\"\n",
    "    },\n",
    "    {\n",
    "        \"firstname\": \"Jane\",\n",
    "        \"lastname\": \"Smith\",\n",
    "        \"phone\": \"555-5678\",\n",
    "        \"email\": \"jane.smith@example.com\"\n",
    "    },\n",
    "    {\n",
    "        \"firstname\": \"Alice\",\n",
    "        \"lastname\": \"Johnson\",\n",
    "        \"phone\": \"555-8765\",\n",
    "        \"email\": \"alice.johnson@example.com\"\n",
    "    },\n",
    "    {\n",
    "        \"firstname\": \"Bob\",\n",
    "        \"lastname\": \"Williams\",\n",
    "        \"phone\": \"555-4321\",\n",
    "        \"email\": \"bob.williams@example.com\"\n",
    "    },\n",
    "    {\n",
    "        \"firstname\": \"Charlie\",\n",
    "        \"lastname\": \"Brown\",\n",
    "        \"phone\": \"555-9876\",\n",
    "        \"email\": \"charlie.brown@example.com\"\n",
    "    },\n",
    "    {\n",
    "        \"firstname\": \"Diana\",\n",
    "        \"lastname\": \"Miller\",\n",
    "        \"phone\": \"555-6543\",\n",
    "        \"email\": \"diana.miller@example.com\"\n",
    "    },\n",
    "    {\n",
    "        \"firstname\": \"Edward\",\n",
    "        \"lastname\": \"Davis\",\n",
    "        \"phone\": \"555-3456\",\n",
    "        \"email\": \"edward.davis@example.com\"\n",
    "    },\n",
    "    {\n",
    "        \"firstname\": \"Fiona\",\n",
    "        \"lastname\": \"Garcia\",\n",
    "        \"phone\": \"555-6789\",\n",
    "        \"email\": \"fiona.garcia@example.com\"\n",
    "    },\n",
    "    {\n",
    "        \"firstname\": \"George\",\n",
    "        \"lastname\": \"Martinez\",\n",
    "        \"phone\": \"555-7890\",\n",
    "        \"email\": \"george.martinez@example.com\"\n",
    "    },\n",
    "    {\n",
    "        \"firstname\": \"Hannah\",\n",
    "        \"lastname\": \"Rodriguez\",\n",
    "        \"phone\": \"555-8901\",\n",
    "        \"email\": \"hannah.rodriguez@example.com\"\n",
    "    }\n",
    "]\n",
    "\n",
    "# Writing the JSON data to a file\n",
    "file_path = 'contactdb.json'\n",
    "with open(file_path, 'w') as json_file:\n",
    "    json.dump(people, json_file, indent=4)\n",
    "\n",
    "file_path"
   ]
  },
  {
   "cell_type": "code",
   "execution_count": 58,
   "metadata": {},
   "outputs": [
    {
     "data": {
      "text/plain": [
       "[{'firstname': 'John',\n",
       "  'lastname': 'Doe',\n",
       "  'phone': '555-1234',\n",
       "  'email': 'john.doe@example.com'},\n",
       " {'firstname': 'Jane',\n",
       "  'lastname': 'Smith',\n",
       "  'phone': '555-5678',\n",
       "  'email': 'jane.smith@example.com'},\n",
       " {'firstname': 'Alice',\n",
       "  'lastname': 'Johnson',\n",
       "  'phone': '555-8765',\n",
       "  'email': 'alice.johnson@example.com'},\n",
       " {'firstname': 'Bob',\n",
       "  'lastname': 'Williams',\n",
       "  'phone': '555-4321',\n",
       "  'email': 'bob.williams@example.com'},\n",
       " {'firstname': 'Charlie',\n",
       "  'lastname': 'Brown',\n",
       "  'phone': '555-9876',\n",
       "  'email': 'charlie.brown@example.com'},\n",
       " {'firstname': 'Diana',\n",
       "  'lastname': 'Miller',\n",
       "  'phone': '555-6543',\n",
       "  'email': 'diana.miller@example.com'},\n",
       " {'firstname': 'Edward',\n",
       "  'lastname': 'Davis',\n",
       "  'phone': '555-3456',\n",
       "  'email': 'edward.davis@example.com'},\n",
       " {'firstname': 'Fiona',\n",
       "  'lastname': 'Garcia',\n",
       "  'phone': '555-6789',\n",
       "  'email': 'fiona.garcia@example.com'},\n",
       " {'firstname': 'George',\n",
       "  'lastname': 'Martinez',\n",
       "  'phone': '555-7890',\n",
       "  'email': 'george.martinez@example.com'},\n",
       " {'firstname': 'Hannah',\n",
       "  'lastname': 'Rodriguez',\n",
       "  'phone': '555-8901',\n",
       "  'email': 'hannah.rodriguez@example.com'}]"
      ]
     },
     "execution_count": 58,
     "metadata": {},
     "output_type": "execute_result"
    }
   ],
   "source": [
    "db = pd.read_json('contactdb.json')\n",
    "db.to_dict('records')"
   ]
  },
  {
   "cell_type": "code",
   "execution_count": 79,
   "metadata": {},
   "outputs": [
    {
     "data": {
      "text/html": [
       "<div>\n",
       "<style scoped>\n",
       "    .dataframe tbody tr th:only-of-type {\n",
       "        vertical-align: middle;\n",
       "    }\n",
       "\n",
       "    .dataframe tbody tr th {\n",
       "        vertical-align: top;\n",
       "    }\n",
       "\n",
       "    .dataframe thead th {\n",
       "        text-align: right;\n",
       "    }\n",
       "</style>\n",
       "<table border=\"1\" class=\"dataframe\">\n",
       "  <thead>\n",
       "    <tr style=\"text-align: right;\">\n",
       "      <th></th>\n",
       "      <th>firstname</th>\n",
       "      <th>lastname</th>\n",
       "      <th>phone</th>\n",
       "      <th>email</th>\n",
       "    </tr>\n",
       "  </thead>\n",
       "  <tbody>\n",
       "    <tr>\n",
       "      <th>0</th>\n",
       "      <td>John</td>\n",
       "      <td>Doe</td>\n",
       "      <td>555-1234</td>\n",
       "      <td>john.doe@example.com</td>\n",
       "    </tr>\n",
       "  </tbody>\n",
       "</table>\n",
       "</div>"
      ],
      "text/plain": [
       "  firstname lastname     phone                 email\n",
       "0      John      Doe  555-1234  john.doe@example.com"
      ]
     },
     "execution_count": 79,
     "metadata": {},
     "output_type": "execute_result"
    }
   ],
   "source": [
    "q = '1234'\n",
    "# db[db['firstname'].str.lower().str.contains(q)]\n",
    "predicate_firstname = db['firstname'].str.lower().str.contains(q.lower())\n",
    "predicate_lastname = db['lastname'].str.lower().str.contains(q.lower())\n",
    "predicate_phone = db['phone'].str.lower().str.contains(q.lower())\n",
    "predicate_email= db['email'].str.lower().str.contains(q.lower())\n",
    "db[predicate_firstname|predicate_lastname|predicate_phone|predicate_email]"
   ]
  },
  {
   "cell_type": "code",
   "execution_count": 80,
   "metadata": {},
   "outputs": [],
   "source": [
    "#|export\n",
    "class Contact(object):\n",
    "    def __init__(self) -> None:\n",
    "        self.db = pd.read_json('contactdb.json')\n",
    "\n",
    "    def search(self, q):\n",
    "        predicate_firstname = self.db['firstname'].str.lower().str.contains(q.lower())\n",
    "        predicate_lastname = self.db['lastname'].str.lower().str.contains(q.lower())\n",
    "        predicate_phone = self.db['phone'].str.lower().str.contains(q.lower())\n",
    "        predicate_email= self.db['email'].str.lower().str.contains(q.lower())\n",
    "        filter_df = self.db[predicate_firstname|predicate_lastname|predicate_phone|predicate_email]\n",
    "        return filter_df.to_dict('records')\n",
    "\n",
    "    def all(self):\n",
    "        return self.db.to_dict('records')"
   ]
  },
  {
   "cell_type": "code",
   "execution_count": 81,
   "metadata": {},
   "outputs": [],
   "source": [
    "#|export\n",
    "\n",
    "app = Flask(__name__)"
   ]
  },
  {
   "cell_type": "code",
   "execution_count": 82,
   "metadata": {},
   "outputs": [],
   "source": [
    "#|export\n",
    "\n",
    "@app.get(\"/\")\n",
    "def index():\n",
    "    return redirect(\"/contacts\")"
   ]
  },
  {
   "cell_type": "code",
   "execution_count": 83,
   "metadata": {},
   "outputs": [],
   "source": [
    "#|export\n",
    "\n",
    "@app.get(\"/contacts\")\n",
    "def contacts():\n",
    "    search = request.args.get(\"q\")\n",
    "    contact_set = None\n",
    "    if search is not None: contact_set = Contact().search(search)\n",
    "    else: contact_set = Contact().all()\n",
    "    # print(contact_set)\n",
    "    return render_template(\"index.html\", contact_set=contact_set)"
   ]
  },
  {
   "cell_type": "code",
   "execution_count": 84,
   "metadata": {},
   "outputs": [],
   "source": [
    "#|eval:false\n",
    "from nbdev.export import nb_export\n",
    "nb_export(\"01_main.ipynb\", lib_path=\".\", name='main')"
   ]
  },
  {
   "cell_type": "code",
   "execution_count": null,
   "metadata": {},
   "outputs": [],
   "source": []
  },
  {
   "cell_type": "code",
   "execution_count": null,
   "metadata": {},
   "outputs": [],
   "source": []
  },
  {
   "cell_type": "code",
   "execution_count": null,
   "metadata": {},
   "outputs": [],
   "source": []
  }
 ],
 "metadata": {
  "kernelspec": {
   "display_name": "htmx-book",
   "language": "python",
   "name": "python3"
  },
  "language_info": {
   "codemirror_mode": {
    "name": "ipython",
    "version": 3
   },
   "file_extension": ".py",
   "mimetype": "text/x-python",
   "name": "python",
   "nbconvert_exporter": "python",
   "pygments_lexer": "ipython3",
   "version": "3.12.4"
  }
 },
 "nbformat": 4,
 "nbformat_minor": 2
}
