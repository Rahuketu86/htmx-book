{
 "cells": [
  {
   "cell_type": "markdown",
   "metadata": {},
   "source": [
    "# Main App"
   ]
  },
  {
   "cell_type": "code",
   "execution_count": 43,
   "metadata": {},
   "outputs": [
    {
     "name": "stdout",
     "output_type": "stream",
     "text": [
      "The autoreload extension is already loaded. To reload it, use:\n",
      "  %reload_ext autoreload\n"
     ]
    }
   ],
   "source": [
    "%load_ext autoreload\n",
    "%autoreload 2"
   ]
  },
  {
   "cell_type": "code",
   "execution_count": 44,
   "metadata": {},
   "outputs": [],
   "source": [
    "#|export\n",
    "import pandas as pd\n",
    "from flask import Flask, redirect\n",
    "from flask import render_template\n",
    "import json"
   ]
  },
  {
   "cell_type": "code",
   "execution_count": 45,
   "metadata": {},
   "outputs": [
    {
     "data": {
      "text/plain": [
       "'contactdb.json'"
      ]
     },
     "execution_count": 45,
     "metadata": {},
     "output_type": "execute_result"
    }
   ],
   "source": [
    "people = [\n",
    "    {\n",
    "        \"firstname\": \"John\",\n",
    "        \"lastname\": \"Doe\",\n",
    "        \"phone\": \"555-1234\",\n",
    "        \"email\": \"john.doe@example.com\"\n",
    "    },\n",
    "    {\n",
    "        \"firstname\": \"Jane\",\n",
    "        \"lastname\": \"Smith\",\n",
    "        \"phone\": \"555-5678\",\n",
    "        \"email\": \"jane.smith@example.com\"\n",
    "    },\n",
    "    {\n",
    "        \"firstname\": \"Alice\",\n",
    "        \"lastname\": \"Johnson\",\n",
    "        \"phone\": \"555-8765\",\n",
    "        \"email\": \"alice.johnson@example.com\"\n",
    "    },\n",
    "    {\n",
    "        \"firstname\": \"Bob\",\n",
    "        \"lastname\": \"Williams\",\n",
    "        \"phone\": \"555-4321\",\n",
    "        \"email\": \"bob.williams@example.com\"\n",
    "    },\n",
    "    {\n",
    "        \"firstname\": \"Charlie\",\n",
    "        \"lastname\": \"Brown\",\n",
    "        \"phone\": \"555-9876\",\n",
    "        \"email\": \"charlie.brown@example.com\"\n",
    "    },\n",
    "    {\n",
    "        \"firstname\": \"Diana\",\n",
    "        \"lastname\": \"Miller\",\n",
    "        \"phone\": \"555-6543\",\n",
    "        \"email\": \"diana.miller@example.com\"\n",
    "    },\n",
    "    {\n",
    "        \"firstname\": \"Edward\",\n",
    "        \"lastname\": \"Davis\",\n",
    "        \"phone\": \"555-3456\",\n",
    "        \"email\": \"edward.davis@example.com\"\n",
    "    },\n",
    "    {\n",
    "        \"firstname\": \"Fiona\",\n",
    "        \"lastname\": \"Garcia\",\n",
    "        \"phone\": \"555-6789\",\n",
    "        \"email\": \"fiona.garcia@example.com\"\n",
    "    },\n",
    "    {\n",
    "        \"firstname\": \"George\",\n",
    "        \"lastname\": \"Martinez\",\n",
    "        \"phone\": \"555-7890\",\n",
    "        \"email\": \"george.martinez@example.com\"\n",
    "    },\n",
    "    {\n",
    "        \"firstname\": \"Hannah\",\n",
    "        \"lastname\": \"Rodriguez\",\n",
    "        \"phone\": \"555-8901\",\n",
    "        \"email\": \"hannah.rodriguez@example.com\"\n",
    "    }\n",
    "]\n",
    "\n",
    "# Writing the JSON data to a file\n",
    "file_path = 'contactdb.json'\n",
    "with open(file_path, 'w') as json_file:\n",
    "    json.dump(people, json_file, indent=4)\n",
    "\n",
    "file_path"
   ]
  },
  {
   "cell_type": "code",
   "execution_count": 46,
   "metadata": {},
   "outputs": [
    {
     "data": {
      "text/plain": [
       "[{'firstname': 'John',\n",
       "  'lastname': 'Doe',\n",
       "  'phone': '555-1234',\n",
       "  'email': 'john.doe@example.com'},\n",
       " {'firstname': 'Jane',\n",
       "  'lastname': 'Smith',\n",
       "  'phone': '555-5678',\n",
       "  'email': 'jane.smith@example.com'},\n",
       " {'firstname': 'Alice',\n",
       "  'lastname': 'Johnson',\n",
       "  'phone': '555-8765',\n",
       "  'email': 'alice.johnson@example.com'},\n",
       " {'firstname': 'Bob',\n",
       "  'lastname': 'Williams',\n",
       "  'phone': '555-4321',\n",
       "  'email': 'bob.williams@example.com'},\n",
       " {'firstname': 'Charlie',\n",
       "  'lastname': 'Brown',\n",
       "  'phone': '555-9876',\n",
       "  'email': 'charlie.brown@example.com'},\n",
       " {'firstname': 'Diana',\n",
       "  'lastname': 'Miller',\n",
       "  'phone': '555-6543',\n",
       "  'email': 'diana.miller@example.com'},\n",
       " {'firstname': 'Edward',\n",
       "  'lastname': 'Davis',\n",
       "  'phone': '555-3456',\n",
       "  'email': 'edward.davis@example.com'},\n",
       " {'firstname': 'Fiona',\n",
       "  'lastname': 'Garcia',\n",
       "  'phone': '555-6789',\n",
       "  'email': 'fiona.garcia@example.com'},\n",
       " {'firstname': 'George',\n",
       "  'lastname': 'Martinez',\n",
       "  'phone': '555-7890',\n",
       "  'email': 'george.martinez@example.com'},\n",
       " {'firstname': 'Hannah',\n",
       "  'lastname': 'Rodriguez',\n",
       "  'phone': '555-8901',\n",
       "  'email': 'hannah.rodriguez@example.com'}]"
      ]
     },
     "execution_count": 46,
     "metadata": {},
     "output_type": "execute_result"
    }
   ],
   "source": [
    "db = pd.read_json('contactdb.json')\n",
    "db.to_dict('records')"
   ]
  },
  {
   "cell_type": "code",
   "execution_count": 47,
   "metadata": {},
   "outputs": [],
   "source": [
    "#|export\n",
    "class Contact(object):\n",
    "    def __init__(self) -> None:\n",
    "        self.db = pd.read_json('contactdb.json')\n",
    "\n",
    "    def search(self, q):\n",
    "        return self.db[self.db['firstname'].str.lower().str.contains(q)].to_dict('records')\n",
    "\n",
    "    def all(self):\n",
    "        return self.db.to_dict('records')"
   ]
  },
  {
   "cell_type": "code",
   "execution_count": 48,
   "metadata": {},
   "outputs": [],
   "source": [
    "#|export\n",
    "\n",
    "app = Flask(__name__)"
   ]
  },
  {
   "cell_type": "code",
   "execution_count": 49,
   "metadata": {},
   "outputs": [],
   "source": [
    "#|export\n",
    "\n",
    "@app.get(\"/\")\n",
    "def index():\n",
    "    return redirect(\"/contacts\")"
   ]
  },
  {
   "cell_type": "code",
   "execution_count": 50,
   "metadata": {},
   "outputs": [],
   "source": [
    "#|export\n",
    "\n",
    "@app.get(\"/contacts\")\n",
    "def contacts():\n",
    "    contact_set = Contact().all()\n",
    "    # print(contact_set)\n",
    "    return render_template(\"index.html\", contact_set=contact_set)"
   ]
  },
  {
   "cell_type": "code",
   "execution_count": 51,
   "metadata": {},
   "outputs": [],
   "source": [
    "#|eval:false\n",
    "from nbdev.export import nb_export\n",
    "nb_export(\"01_main.ipynb\", lib_path=\".\", name='main')"
   ]
  },
  {
   "cell_type": "code",
   "execution_count": null,
   "metadata": {},
   "outputs": [],
   "source": []
  }
 ],
 "metadata": {
  "kernelspec": {
   "display_name": "htmx-book",
   "language": "python",
   "name": "python3"
  },
  "language_info": {
   "codemirror_mode": {
    "name": "ipython",
    "version": 3
   },
   "file_extension": ".py",
   "mimetype": "text/x-python",
   "name": "python",
   "nbconvert_exporter": "python",
   "pygments_lexer": "ipython3",
   "version": "3.12.4"
  }
 },
 "nbformat": 4,
 "nbformat_minor": 2
}
