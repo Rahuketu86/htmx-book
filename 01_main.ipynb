{
 "cells": [
  {
   "cell_type": "markdown",
   "metadata": {},
   "source": [
    "# Main App"
   ]
  },
  {
   "cell_type": "code",
   "execution_count": 1,
   "metadata": {},
   "outputs": [],
   "source": [
    "%load_ext autoreload\n",
    "%autoreload 2"
   ]
  },
  {
   "cell_type": "code",
   "execution_count": 25,
   "metadata": {},
   "outputs": [],
   "source": [
    "#|export\n",
    "import pandas as pd\n",
    "from flask import Flask, redirect, request, render_template"
   ]
  },
  {
   "cell_type": "code",
   "execution_count": 26,
   "metadata": {},
   "outputs": [],
   "source": [
    "\n",
    "from IPython.display import display_html"
   ]
  },
  {
   "cell_type": "code",
   "execution_count": 27,
   "metadata": {},
   "outputs": [],
   "source": [
    "people = [\n",
    "    {\n",
    "        \"firstname\": \"John\",\n",
    "        \"lastname\": \"Doe\",\n",
    "        \"phone\": \"555-1234\",\n",
    "        \"email\": \"john.doe@example.com\"\n",
    "    },\n",
    "    {\n",
    "        \"firstname\": \"Jane\",\n",
    "        \"lastname\": \"Smith\",\n",
    "        \"phone\": \"555-5678\",\n",
    "        \"email\": \"jane.smith@example.com\"\n",
    "    },\n",
    "    {\n",
    "        \"firstname\": \"Alice\",\n",
    "        \"lastname\": \"Johnson\",\n",
    "        \"phone\": \"555-8765\",\n",
    "        \"email\": \"alice.johnson@example.com\"\n",
    "    },\n",
    "    {\n",
    "        \"firstname\": \"Bob\",\n",
    "        \"lastname\": \"Williams\",\n",
    "        \"phone\": \"555-4321\",\n",
    "        \"email\": \"bob.williams@example.com\"\n",
    "    },\n",
    "    {\n",
    "        \"firstname\": \"Charlie\",\n",
    "        \"lastname\": \"Brown\",\n",
    "        \"phone\": \"555-9876\",\n",
    "        \"email\": \"charlie.brown@example.com\"\n",
    "    },\n",
    "    {\n",
    "        \"firstname\": \"Diana\",\n",
    "        \"lastname\": \"Miller\",\n",
    "        \"phone\": \"555-6543\",\n",
    "        \"email\": \"diana.miller@example.com\"\n",
    "    },\n",
    "    {\n",
    "        \"firstname\": \"Edward\",\n",
    "        \"lastname\": \"Davis\",\n",
    "        \"phone\": \"555-3456\",\n",
    "        \"email\": \"edward.davis@example.com\"\n",
    "    },\n",
    "    {\n",
    "        \"firstname\": \"Fiona\",\n",
    "        \"lastname\": \"Garcia\",\n",
    "        \"phone\": \"555-6789\",\n",
    "        \"email\": \"fiona.garcia@example.com\"\n",
    "    },\n",
    "    {\n",
    "        \"firstname\": \"George\",\n",
    "        \"lastname\": \"Martinez\",\n",
    "        \"phone\": \"555-7890\",\n",
    "        \"email\": \"george.martinez@example.com\"\n",
    "    },\n",
    "    {\n",
    "        \"firstname\": \"Hannah\",\n",
    "        \"lastname\": \"Rodriguez\",\n",
    "        \"phone\": \"555-8901\",\n",
    "        \"email\": \"hannah.rodriguez@example.com\"\n",
    "    }\n",
    "]\n",
    "\n",
    "# Writing the JSON data to a file\n",
    "file_path = 'contactdb.json'\n",
    "# df = pd.read_json(file_path)\n",
    "df = pd.DataFrame()\n",
    "df = df.from_dict(people)\n",
    "df['id'] = df.index\n",
    "df.to_json(file_path, orient='records')"
   ]
  },
  {
   "cell_type": "code",
   "execution_count": 4,
   "metadata": {},
   "outputs": [
    {
     "data": {
      "text/plain": [
       "[{'firstname': 'John',\n",
       "  'lastname': 'Doe',\n",
       "  'phone': '555-1234',\n",
       "  'email': 'john.doe@example.com',\n",
       "  'id': 0},\n",
       " {'firstname': 'Jane',\n",
       "  'lastname': 'Smith',\n",
       "  'phone': '555-5678',\n",
       "  'email': 'jane.smith@example.com',\n",
       "  'id': 1},\n",
       " {'firstname': 'Alice',\n",
       "  'lastname': 'Johnson',\n",
       "  'phone': '555-8765',\n",
       "  'email': 'alice.johnson@example.com',\n",
       "  'id': 2},\n",
       " {'firstname': 'Bob',\n",
       "  'lastname': 'Williams',\n",
       "  'phone': '555-4321',\n",
       "  'email': 'bob.williams@example.com',\n",
       "  'id': 3},\n",
       " {'firstname': 'Charlie',\n",
       "  'lastname': 'Brown',\n",
       "  'phone': '555-9876',\n",
       "  'email': 'charlie.brown@example.com',\n",
       "  'id': 4},\n",
       " {'firstname': 'Diana',\n",
       "  'lastname': 'Miller',\n",
       "  'phone': '555-6543',\n",
       "  'email': 'diana.miller@example.com',\n",
       "  'id': 5},\n",
       " {'firstname': 'Edward',\n",
       "  'lastname': 'Davis',\n",
       "  'phone': '555-3456',\n",
       "  'email': 'edward.davis@example.com',\n",
       "  'id': 6},\n",
       " {'firstname': 'Fiona',\n",
       "  'lastname': 'Garcia',\n",
       "  'phone': '555-6789',\n",
       "  'email': 'fiona.garcia@example.com',\n",
       "  'id': 7},\n",
       " {'firstname': 'George',\n",
       "  'lastname': 'Martinez',\n",
       "  'phone': '555-7890',\n",
       "  'email': 'george.martinez@example.com',\n",
       "  'id': 8},\n",
       " {'firstname': 'Hannah',\n",
       "  'lastname': 'Rodriguez',\n",
       "  'phone': '555-8901',\n",
       "  'email': 'hannah.rodriguez@example.com',\n",
       "  'id': 9}]"
      ]
     },
     "execution_count": 4,
     "metadata": {},
     "output_type": "execute_result"
    }
   ],
   "source": [
    "db = pd.read_json('contactdb.json')\n",
    "db.to_dict('records')"
   ]
  },
  {
   "cell_type": "code",
   "execution_count": 5,
   "metadata": {},
   "outputs": [
    {
     "data": {
      "text/html": [
       "<div>\n",
       "<style scoped>\n",
       "    .dataframe tbody tr th:only-of-type {\n",
       "        vertical-align: middle;\n",
       "    }\n",
       "\n",
       "    .dataframe tbody tr th {\n",
       "        vertical-align: top;\n",
       "    }\n",
       "\n",
       "    .dataframe thead th {\n",
       "        text-align: right;\n",
       "    }\n",
       "</style>\n",
       "<table border=\"1\" class=\"dataframe\">\n",
       "  <thead>\n",
       "    <tr style=\"text-align: right;\">\n",
       "      <th></th>\n",
       "      <th>firstname</th>\n",
       "      <th>lastname</th>\n",
       "      <th>phone</th>\n",
       "      <th>email</th>\n",
       "      <th>id</th>\n",
       "    </tr>\n",
       "  </thead>\n",
       "  <tbody>\n",
       "    <tr>\n",
       "      <th>0</th>\n",
       "      <td>John</td>\n",
       "      <td>Doe</td>\n",
       "      <td>555-1234</td>\n",
       "      <td>john.doe@example.com</td>\n",
       "      <td>0</td>\n",
       "    </tr>\n",
       "  </tbody>\n",
       "</table>\n",
       "</div>"
      ],
      "text/plain": [
       "  firstname lastname     phone                 email  id\n",
       "0      John      Doe  555-1234  john.doe@example.com   0"
      ]
     },
     "execution_count": 5,
     "metadata": {},
     "output_type": "execute_result"
    }
   ],
   "source": [
    "q = '1234'\n",
    "# db[db['firstname'].str.lower().str.contains(q)]\n",
    "predicate_firstname = db['firstname'].str.lower().str.contains(q.lower())\n",
    "predicate_lastname = db['lastname'].str.lower().str.contains(q.lower())\n",
    "predicate_phone = db['phone'].str.lower().str.contains(q.lower())\n",
    "predicate_email= db['email'].str.lower().str.contains(q.lower())\n",
    "db[predicate_firstname|predicate_lastname|predicate_phone|predicate_email]"
   ]
  },
  {
   "cell_type": "code",
   "execution_count": 6,
   "metadata": {},
   "outputs": [],
   "source": [
    "db.columns\n",
    "\n",
    "a={'firstname': 'Rahul',\n",
    "   'lastname': 'Saraf',\n",
    "    'phone':'7347306799',\n",
    "    'email': 'rahuketu86'}\n",
    "a['id'] = len(db)\n",
    "# db.loc[len(db)] = \n",
    "a\n",
    "db.loc[len(db), a.keys()] = a.values()"
   ]
  },
  {
   "cell_type": "code",
   "execution_count": 7,
   "metadata": {},
   "outputs": [
    {
     "data": {
      "text/html": [
       "<div>\n",
       "<style scoped>\n",
       "    .dataframe tbody tr th:only-of-type {\n",
       "        vertical-align: middle;\n",
       "    }\n",
       "\n",
       "    .dataframe tbody tr th {\n",
       "        vertical-align: top;\n",
       "    }\n",
       "\n",
       "    .dataframe thead th {\n",
       "        text-align: right;\n",
       "    }\n",
       "</style>\n",
       "<table border=\"1\" class=\"dataframe\">\n",
       "  <thead>\n",
       "    <tr style=\"text-align: right;\">\n",
       "      <th></th>\n",
       "      <th>firstname</th>\n",
       "      <th>lastname</th>\n",
       "      <th>phone</th>\n",
       "      <th>email</th>\n",
       "      <th>id</th>\n",
       "    </tr>\n",
       "  </thead>\n",
       "  <tbody>\n",
       "    <tr>\n",
       "      <th>0</th>\n",
       "      <td>John</td>\n",
       "      <td>Doe</td>\n",
       "      <td>555-1234</td>\n",
       "      <td>john.doe@example.com</td>\n",
       "      <td>0.0</td>\n",
       "    </tr>\n",
       "    <tr>\n",
       "      <th>1</th>\n",
       "      <td>Jane</td>\n",
       "      <td>Smith</td>\n",
       "      <td>555-5678</td>\n",
       "      <td>jane.smith@example.com</td>\n",
       "      <td>1.0</td>\n",
       "    </tr>\n",
       "    <tr>\n",
       "      <th>2</th>\n",
       "      <td>Alice</td>\n",
       "      <td>Johnson</td>\n",
       "      <td>555-8765</td>\n",
       "      <td>alice.johnson@example.com</td>\n",
       "      <td>2.0</td>\n",
       "    </tr>\n",
       "    <tr>\n",
       "      <th>3</th>\n",
       "      <td>Bob</td>\n",
       "      <td>Williams</td>\n",
       "      <td>555-4321</td>\n",
       "      <td>bob.williams@example.com</td>\n",
       "      <td>3.0</td>\n",
       "    </tr>\n",
       "    <tr>\n",
       "      <th>4</th>\n",
       "      <td>Charlie</td>\n",
       "      <td>Brown</td>\n",
       "      <td>555-9876</td>\n",
       "      <td>charlie.brown@example.com</td>\n",
       "      <td>4.0</td>\n",
       "    </tr>\n",
       "    <tr>\n",
       "      <th>5</th>\n",
       "      <td>Diana</td>\n",
       "      <td>Miller</td>\n",
       "      <td>555-6543</td>\n",
       "      <td>diana.miller@example.com</td>\n",
       "      <td>5.0</td>\n",
       "    </tr>\n",
       "    <tr>\n",
       "      <th>6</th>\n",
       "      <td>Edward</td>\n",
       "      <td>Davis</td>\n",
       "      <td>555-3456</td>\n",
       "      <td>edward.davis@example.com</td>\n",
       "      <td>6.0</td>\n",
       "    </tr>\n",
       "    <tr>\n",
       "      <th>7</th>\n",
       "      <td>Fiona</td>\n",
       "      <td>Garcia</td>\n",
       "      <td>555-6789</td>\n",
       "      <td>fiona.garcia@example.com</td>\n",
       "      <td>7.0</td>\n",
       "    </tr>\n",
       "    <tr>\n",
       "      <th>8</th>\n",
       "      <td>George</td>\n",
       "      <td>Martinez</td>\n",
       "      <td>555-7890</td>\n",
       "      <td>george.martinez@example.com</td>\n",
       "      <td>8.0</td>\n",
       "    </tr>\n",
       "    <tr>\n",
       "      <th>9</th>\n",
       "      <td>Hannah</td>\n",
       "      <td>Rodriguez</td>\n",
       "      <td>555-8901</td>\n",
       "      <td>hannah.rodriguez@example.com</td>\n",
       "      <td>9.0</td>\n",
       "    </tr>\n",
       "    <tr>\n",
       "      <th>10</th>\n",
       "      <td>Rahul</td>\n",
       "      <td>Saraf</td>\n",
       "      <td>7347306799</td>\n",
       "      <td>rahuketu86</td>\n",
       "      <td>10.0</td>\n",
       "    </tr>\n",
       "  </tbody>\n",
       "</table>\n",
       "</div>"
      ],
      "text/plain": [
       "   firstname   lastname       phone                         email    id\n",
       "0       John        Doe    555-1234          john.doe@example.com   0.0\n",
       "1       Jane      Smith    555-5678        jane.smith@example.com   1.0\n",
       "2      Alice    Johnson    555-8765     alice.johnson@example.com   2.0\n",
       "3        Bob   Williams    555-4321      bob.williams@example.com   3.0\n",
       "4    Charlie      Brown    555-9876     charlie.brown@example.com   4.0\n",
       "5      Diana     Miller    555-6543      diana.miller@example.com   5.0\n",
       "6     Edward      Davis    555-3456      edward.davis@example.com   6.0\n",
       "7      Fiona     Garcia    555-6789      fiona.garcia@example.com   7.0\n",
       "8     George   Martinez    555-7890   george.martinez@example.com   8.0\n",
       "9     Hannah  Rodriguez    555-8901  hannah.rodriguez@example.com   9.0\n",
       "10     Rahul      Saraf  7347306799                    rahuketu86  10.0"
      ]
     },
     "execution_count": 7,
     "metadata": {},
     "output_type": "execute_result"
    }
   ],
   "source": [
    "db"
   ]
  },
  {
   "cell_type": "code",
   "execution_count": 8,
   "metadata": {},
   "outputs": [],
   "source": [
    "#|export\n",
    "class Contact(object):\n",
    "    def __init__(self) -> None:\n",
    "        self.refresh()\n",
    "\n",
    "    def search(self, q):\n",
    "        predicate_firstname = self.db['firstname'].str.lower().str.contains(q.lower())\n",
    "        predicate_lastname = self.db['lastname'].str.lower().str.contains(q.lower())\n",
    "        predicate_phone = self.db['phone'].str.lower().str.contains(q.lower())\n",
    "        predicate_email= self.db['email'].str.lower().str.contains(q.lower())\n",
    "        filter_df = self.db[predicate_firstname|predicate_lastname|predicate_phone|predicate_email]\n",
    "        return filter_df.to_dict('records')\n",
    "    \n",
    "    def refresh(self):\n",
    "        self.file_path = 'contactdb.json'\n",
    "        self.db = pd.read_json(self.file_path)\n",
    "\n",
    "\n",
    "    def all(self):\n",
    "        return self.db.to_dict('records')\n",
    "    \n",
    "    def get(self, id):\n",
    "        contact = self.db[self.db['id']==id]\n",
    "        # print(contact)\n",
    "        return contact.to_dict('records')[0]\n",
    "    \n",
    "    def add(self, firstname, lastname, phone, email):\n",
    "        a={'firstname': firstname,\n",
    "           'lastname': lastname,\n",
    "           'phone':phone,\n",
    "           'email': email}\n",
    "        a['id'] = len(self.db)\n",
    "        self.db.loc[len(self.db), a.keys()] = a.values()\n",
    "        self.db.to_json(file_path, orient='records')\n",
    "        self.refresh()\n",
    "\n",
    "    def delete(self, id):\n",
    "        self.db.drop(index=id, inplace=True, errors='raise')\n",
    "        self.db.to_json(file_path, orient='records')\n",
    "        self.refresh()\n",
    "\n",
    "    def edit(self, id, firstname, lastname, phone, email):\n",
    "        a={'firstname': firstname,\n",
    "           'lastname': lastname,\n",
    "           'phone':phone,\n",
    "           'email': email,\n",
    "           'id': id}\n",
    "        self.db.loc[id, a.keys()] = a.values()\n",
    "        self.db.to_json(file_path, orient='records')\n",
    "        self.refresh()\n"
   ]
  },
  {
   "cell_type": "code",
   "execution_count": 10,
   "metadata": {},
   "outputs": [
    {
     "data": {
      "text/plain": [
       "dict_values(['Alice', 'Johnson', '555-8765', 'alice.johnson@example.com', 2])"
      ]
     },
     "execution_count": 10,
     "metadata": {},
     "output_type": "execute_result"
    }
   ],
   "source": [
    "c = Contact()\n",
    "c.db.loc[2].to_dict().values()"
   ]
  },
  {
   "cell_type": "code",
   "execution_count": 11,
   "metadata": {},
   "outputs": [
    {
     "data": {
      "text/plain": [
       "{'firstname': 'Alice',\n",
       " 'lastname': 'Johnson',\n",
       " 'phone': '555-8767',\n",
       " 'email': 'alice.johnson@example.com',\n",
       " 'id': 2}"
      ]
     },
     "execution_count": 11,
     "metadata": {},
     "output_type": "execute_result"
    }
   ],
   "source": [
    "new_vals = [2, 'Alice', 'Johnson', '555-8767', 'alice.johnson@example.com']\n",
    "c.edit(*new_vals)\n",
    "c.get(2)"
   ]
  },
  {
   "cell_type": "code",
   "execution_count": 13,
   "metadata": {},
   "outputs": [
    {
     "data": {
      "text/plain": [
       "[{'firstname': 'Alice',\n",
       "  'lastname': 'Johnson',\n",
       "  'phone': '555-8767',\n",
       "  'email': 'alice.johnson@example.com',\n",
       "  'id': 2},\n",
       " {'firstname': 'Bob',\n",
       "  'lastname': 'Williams',\n",
       "  'phone': '555-4321',\n",
       "  'email': 'bob.williams@example.com',\n",
       "  'id': 3},\n",
       " {'firstname': 'Charlie',\n",
       "  'lastname': 'Brown',\n",
       "  'phone': '555-9876',\n",
       "  'email': 'charlie.brown@example.com',\n",
       "  'id': 4},\n",
       " {'firstname': 'Diana',\n",
       "  'lastname': 'Miller',\n",
       "  'phone': '555-6543',\n",
       "  'email': 'diana.miller@example.com',\n",
       "  'id': 5},\n",
       " {'firstname': 'Edward',\n",
       "  'lastname': 'Davis',\n",
       "  'phone': '555-3456',\n",
       "  'email': 'edward.davis@example.com',\n",
       "  'id': 6},\n",
       " {'firstname': 'Fiona',\n",
       "  'lastname': 'Garcia',\n",
       "  'phone': '555-6789',\n",
       "  'email': 'fiona.garcia@example.com',\n",
       "  'id': 7},\n",
       " {'firstname': 'George',\n",
       "  'lastname': 'Martinez',\n",
       "  'phone': '555-7890',\n",
       "  'email': 'george.martinez@example.com',\n",
       "  'id': 8},\n",
       " {'firstname': 'Hannah',\n",
       "  'lastname': 'Rodriguez',\n",
       "  'phone': '555-8901',\n",
       "  'email': 'hannah.rodriguez@example.com',\n",
       "  'id': 9},\n",
       " {'firstname': 'John',\n",
       "  'lastname': 'Doe',\n",
       "  'phone': '555-1234',\n",
       "  'email': 'john.doe@example.com',\n",
       "  'id': 9},\n",
       " {'firstname': 'Jane',\n",
       "  'lastname': 'Smith',\n",
       "  'phone': '555-5678',\n",
       "  'email': 'jane.smith@example.com',\n",
       "  'id': 9}]"
      ]
     },
     "execution_count": 13,
     "metadata": {},
     "output_type": "execute_result"
    }
   ],
   "source": [
    "c = Contact()\n",
    "a_dict = c.db.loc[0].to_dict()\n",
    "a_dict.pop('id', None); a_dict\n",
    "c.delete(0)\n",
    "\n",
    "c.add(*list(a_dict.values()))\n",
    "c.all()\n",
    "\n",
    "\n"
   ]
  },
  {
   "cell_type": "code",
   "execution_count": 14,
   "metadata": {},
   "outputs": [],
   "source": [
    "#|export\n",
    "app = Flask(__name__)"
   ]
  },
  {
   "cell_type": "code",
   "execution_count": 15,
   "metadata": {},
   "outputs": [],
   "source": [
    "#|export\n",
    "@app.get(\"/\")\n",
    "def index():\n",
    "    return redirect(\"/contacts\")"
   ]
  },
  {
   "cell_type": "code",
   "execution_count": 16,
   "metadata": {},
   "outputs": [],
   "source": [
    "#|export\n",
    "@app.get(\"/contacts\")\n",
    "def contacts():\n",
    "    search = request.args.get(\"q\")\n",
    "    contact_set = None\n",
    "    if search is not None: contact_set = Contact().search(search)\n",
    "    else: contact_set = Contact().all()\n",
    "    # print(contact_set)\n",
    "    return render_template(\"index.html\", contact_set=contact_set)"
   ]
  },
  {
   "cell_type": "code",
   "execution_count": 17,
   "metadata": {},
   "outputs": [
    {
     "data": {
      "text/plain": [
       "{'firstname': 'Bob',\n",
       " 'lastname': 'Williams',\n",
       " 'phone': '555-4321',\n",
       " 'email': 'bob.williams@example.com',\n",
       " 'id': 3}"
      ]
     },
     "execution_count": 17,
     "metadata": {},
     "output_type": "execute_result"
    }
   ],
   "source": [
    "Contact().db[df['id']==1].to_dict('records')[0]"
   ]
  },
  {
   "cell_type": "code",
   "execution_count": 18,
   "metadata": {},
   "outputs": [],
   "source": [
    "#|export\n",
    "@app.get(\"/contacts/<int:id>\")\n",
    "def view(id:int):\n",
    "    return render_template(\"view.html\", contact=Contact().get(id))"
   ]
  },
  {
   "cell_type": "code",
   "execution_count": 19,
   "metadata": {},
   "outputs": [
    {
     "name": "stdout",
     "output_type": "stream",
     "text": [
      "<!doctype html>\n",
      "<html>\n",
      "    <head>\n",
      "        <title>Contact.App</title>\n",
      "        <link rel=\"stylesheet\" href=\"https://cdn.jsdelivr.net/npm/@picocss/pico@2/css/pico.min.css\">\n",
      "    </head>\n",
      "    <body>\n",
      "        <main class=\"container\">\n",
      "            <h1> CONTACTS.APP</h1>\n",
      "            <h2> A demo contact application </h2>\n",
      "            <hr>\n",
      "            \n",
      "    <article>\n",
      "        <h1>Alice Johnson </h1>\n",
      "        <div role=\"group\">\n",
      "            <div>555-8767</div>\n",
      "            <div>alice.johnson@example.com</div>\n",
      "        </div>\n",
      "        <footer>\n",
      "            <a href=\"/contacts\" role=\"button\">Back</a>\n",
      "        </footer>\n",
      "    </article>\n",
      "\n",
      "        </main>\n",
      "    </body>\n",
      "</html>\n"
     ]
    }
   ],
   "source": [
    "with app.app_context():\n",
    "    print(view(2))"
   ]
  },
  {
   "cell_type": "code",
   "execution_count": 20,
   "metadata": {},
   "outputs": [
    {
     "data": {
      "text/plain": [
       "{'firstname': 'Alice',\n",
       " 'lastname': 'Johnson',\n",
       " 'phone': '555-8767',\n",
       " 'email': 'alice.johnson@example.com',\n",
       " 'id': 2}"
      ]
     },
     "execution_count": 20,
     "metadata": {},
     "output_type": "execute_result"
    }
   ],
   "source": [
    "Contact().get(2)"
   ]
  },
  {
   "cell_type": "code",
   "execution_count": 21,
   "metadata": {},
   "outputs": [],
   "source": [
    "#|export\n",
    "@app.put(\"/contacts/<int:id>/edit\")\n",
    "def edit(id):\n",
    "    return \"Edit View\""
   ]
  },
  {
   "cell_type": "code",
   "execution_count": 22,
   "metadata": {},
   "outputs": [],
   "source": [
    "#|export\n",
    "@app.post(\"/contacts/new\")\n",
    "def new():\n",
    "    return \"New View\""
   ]
  },
  {
   "cell_type": "code",
   "execution_count": 24,
   "metadata": {},
   "outputs": [],
   "source": [
    "#|eval:false\n",
    "from nbdev.export import nb_export\n",
    "nb_export(\"01_main.ipynb\", lib_path=\".\", name='main')"
   ]
  },
  {
   "cell_type": "code",
   "execution_count": null,
   "metadata": {},
   "outputs": [],
   "source": []
  },
  {
   "cell_type": "code",
   "execution_count": null,
   "metadata": {},
   "outputs": [],
   "source": []
  },
  {
   "cell_type": "code",
   "execution_count": null,
   "metadata": {},
   "outputs": [],
   "source": []
  }
 ],
 "metadata": {
  "kernelspec": {
   "display_name": "htmx-book",
   "language": "python",
   "name": "python3"
  },
  "language_info": {
   "codemirror_mode": {
    "name": "ipython",
    "version": 3
   },
   "file_extension": ".py",
   "mimetype": "text/x-python",
   "name": "python",
   "nbconvert_exporter": "python",
   "pygments_lexer": "ipython3",
   "version": "3.12.4"
  }
 },
 "nbformat": 4,
 "nbformat_minor": 2
}
