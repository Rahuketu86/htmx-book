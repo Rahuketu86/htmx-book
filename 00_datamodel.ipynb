{
 "cells": [
  {
   "cell_type": "markdown",
   "metadata": {},
   "source": [
    "# Data Model"
   ]
  },
  {
   "cell_type": "code",
   "execution_count": 263,
   "metadata": {},
   "outputs": [
    {
     "name": "stdout",
     "output_type": "stream",
     "text": [
      "The autoreload extension is already loaded. To reload it, use:\n",
      "  %reload_ext autoreload\n"
     ]
    }
   ],
   "source": [
    "%load_ext autoreload\n",
    "%autoreload 2"
   ]
  },
  {
   "cell_type": "code",
   "execution_count": 264,
   "metadata": {},
   "outputs": [],
   "source": [
    "#|export\n",
    "import pandas as pd\n",
    "from dataclasses import dataclass, field\n",
    "import re"
   ]
  },
  {
   "cell_type": "code",
   "execution_count": 265,
   "metadata": {},
   "outputs": [],
   "source": [
    "\n",
    "from IPython.display import display_html"
   ]
  },
  {
   "cell_type": "code",
   "execution_count": 266,
   "metadata": {},
   "outputs": [],
   "source": [
    "def create_db():\n",
    "    people = [\n",
    "        {\n",
    "            \"firstname\": \"John\",\n",
    "            \"lastname\": \"Doe\",\n",
    "            \"phone\": \"555-1234\",\n",
    "            \"email\": \"john.doe@example.com\"\n",
    "        },\n",
    "        {\n",
    "            \"firstname\": \"Jane\",\n",
    "            \"lastname\": \"Smith\",\n",
    "            \"phone\": \"555-5678\",\n",
    "            \"email\": \"jane.smith@example.com\"\n",
    "        },\n",
    "        {\n",
    "            \"firstname\": \"Alice\",\n",
    "            \"lastname\": \"Johnson\",\n",
    "            \"phone\": \"555-8765\",\n",
    "            \"email\": \"alice.johnson@example.com\"\n",
    "        },\n",
    "        {\n",
    "            \"firstname\": \"Bob\",\n",
    "            \"lastname\": \"Williams\",\n",
    "            \"phone\": \"555-4321\",\n",
    "            \"email\": \"bob.williams@example.com\"\n",
    "        },\n",
    "        {\n",
    "            \"firstname\": \"Charlie\",\n",
    "            \"lastname\": \"Brown\",\n",
    "            \"phone\": \"555-9876\",\n",
    "            \"email\": \"charlie.brown@example.com\"\n",
    "        },\n",
    "        {\n",
    "            \"firstname\": \"Diana\",\n",
    "            \"lastname\": \"Miller\",\n",
    "            \"phone\": \"555-6543\",\n",
    "            \"email\": \"diana.miller@example.com\"\n",
    "        },\n",
    "        {\n",
    "            \"firstname\": \"Edward\",\n",
    "            \"lastname\": \"Davis\",\n",
    "            \"phone\": \"555-3456\",\n",
    "            \"email\": \"edward.davis@example.com\"\n",
    "        },\n",
    "        {\n",
    "            \"firstname\": \"Fiona\",\n",
    "            \"lastname\": \"Garcia\",\n",
    "            \"phone\": \"555-6789\",\n",
    "            \"email\": \"fiona.garcia@example.com\"\n",
    "        },\n",
    "        {\n",
    "            \"firstname\": \"George\",\n",
    "            \"lastname\": \"Martinez\",\n",
    "            \"phone\": \"555-7890\",\n",
    "            \"email\": \"george.martinez@example.com\"\n",
    "        },\n",
    "        {\n",
    "            \"firstname\": \"Hannah\",\n",
    "            \"lastname\": \"Rodriguez\",\n",
    "            \"phone\": \"555-8901\",\n",
    "            \"email\": \"hannah.rodriguez@example.com\"\n",
    "        }\n",
    "    ]\n",
    "\n",
    "    # Writing the JSON data to a file\n",
    "    file_path = 'contactdb.json'\n",
    "    # df = pd.read_json(file_path)\n",
    "    df = pd.DataFrame()\n",
    "    df = df.from_dict(people)\n",
    "    df['id'] = df.index\n",
    "    df.to_json(file_path, orient='records')"
   ]
  },
  {
   "cell_type": "code",
   "execution_count": 267,
   "metadata": {},
   "outputs": [
    {
     "data": {
      "text/plain": [
       "[{'firstname': 'John',\n",
       "  'lastname': 'Doe',\n",
       "  'phone': '555-1234',\n",
       "  'email': 'john.doe@example.com',\n",
       "  'id': 0},\n",
       " {'firstname': 'Jane',\n",
       "  'lastname': 'Smith',\n",
       "  'phone': '555-5678',\n",
       "  'email': 'jane.smith@example.com',\n",
       "  'id': 1},\n",
       " {'firstname': 'Alice',\n",
       "  'lastname': 'Johnson',\n",
       "  'phone': '555-8765',\n",
       "  'email': 'alice.johnson@example.com',\n",
       "  'id': 2},\n",
       " {'firstname': 'Bob',\n",
       "  'lastname': 'Williams',\n",
       "  'phone': '555-4321',\n",
       "  'email': 'bob.williams@example.com',\n",
       "  'id': 3},\n",
       " {'firstname': 'Charlie',\n",
       "  'lastname': 'Brown',\n",
       "  'phone': '555-9876',\n",
       "  'email': 'charlie.brown@example.com',\n",
       "  'id': 4},\n",
       " {'firstname': 'Diana',\n",
       "  'lastname': 'Miller',\n",
       "  'phone': '555-6543',\n",
       "  'email': 'diana.miller@example.com',\n",
       "  'id': 5},\n",
       " {'firstname': 'Edward',\n",
       "  'lastname': 'Davis',\n",
       "  'phone': '555-3456',\n",
       "  'email': 'edward.davis@example.com',\n",
       "  'id': 6},\n",
       " {'firstname': 'Fiona',\n",
       "  'lastname': 'Garcia',\n",
       "  'phone': '555-6789',\n",
       "  'email': 'fiona.garcia@example.com',\n",
       "  'id': 7},\n",
       " {'firstname': 'George',\n",
       "  'lastname': 'Martinez',\n",
       "  'phone': '555-7890',\n",
       "  'email': 'george.martinez@example.com',\n",
       "  'id': 8},\n",
       " {'firstname': 'Hannah',\n",
       "  'lastname': 'Rodriguez',\n",
       "  'phone': '555-8901',\n",
       "  'email': 'hannah.rodriguez@example.com',\n",
       "  'id': 9}]"
      ]
     },
     "execution_count": 267,
     "metadata": {},
     "output_type": "execute_result"
    }
   ],
   "source": [
    "create_db()\n",
    "db = pd.read_json('contactdb.json')\n",
    "db.to_dict('records')"
   ]
  },
  {
   "cell_type": "code",
   "execution_count": 268,
   "metadata": {},
   "outputs": [
    {
     "data": {
      "text/html": [
       "<div>\n",
       "<style scoped>\n",
       "    .dataframe tbody tr th:only-of-type {\n",
       "        vertical-align: middle;\n",
       "    }\n",
       "\n",
       "    .dataframe tbody tr th {\n",
       "        vertical-align: top;\n",
       "    }\n",
       "\n",
       "    .dataframe thead th {\n",
       "        text-align: right;\n",
       "    }\n",
       "</style>\n",
       "<table border=\"1\" class=\"dataframe\">\n",
       "  <thead>\n",
       "    <tr style=\"text-align: right;\">\n",
       "      <th></th>\n",
       "      <th>firstname</th>\n",
       "      <th>lastname</th>\n",
       "      <th>phone</th>\n",
       "      <th>email</th>\n",
       "      <th>id</th>\n",
       "    </tr>\n",
       "  </thead>\n",
       "  <tbody>\n",
       "    <tr>\n",
       "      <th>0</th>\n",
       "      <td>John</td>\n",
       "      <td>Doe</td>\n",
       "      <td>555-1234</td>\n",
       "      <td>john.doe@example.com</td>\n",
       "      <td>0</td>\n",
       "    </tr>\n",
       "  </tbody>\n",
       "</table>\n",
       "</div>"
      ],
      "text/plain": [
       "  firstname lastname     phone                 email  id\n",
       "0      John      Doe  555-1234  john.doe@example.com   0"
      ]
     },
     "execution_count": 268,
     "metadata": {},
     "output_type": "execute_result"
    }
   ],
   "source": [
    "q = '1234'\n",
    "# db[db['firstname'].str.lower().str.contains(q)]\n",
    "predicate_firstname = db['firstname'].str.lower().str.contains(q.lower())\n",
    "predicate_lastname = db['lastname'].str.lower().str.contains(q.lower())\n",
    "predicate_phone = db['phone'].str.lower().str.contains(q.lower())\n",
    "predicate_email= db['email'].str.lower().str.contains(q.lower())\n",
    "db[predicate_firstname|predicate_lastname|predicate_phone|predicate_email]"
   ]
  },
  {
   "cell_type": "code",
   "execution_count": 269,
   "metadata": {},
   "outputs": [],
   "source": [
    "db.columns\n",
    "\n",
    "a={'firstname': 'Rahul',\n",
    "   'lastname': 'Saraf',\n",
    "    'phone':'7347399',\n",
    "    'email': 'rahuketu86'}\n",
    "a['id'] = len(db)\n",
    "# db.loc[len(db)] = \n",
    "a\n",
    "db.loc[len(db), a.keys()] = a.values()"
   ]
  },
  {
   "cell_type": "code",
   "execution_count": 270,
   "metadata": {},
   "outputs": [],
   "source": [
    "#|export\n",
    "@dataclass\n",
    "class ContactErrors:\n",
    "    firstname:str = None\n",
    "    lastname:str = None\n",
    "    phone:str = None\n",
    "    email:str = None\n"
   ]
  },
  {
   "cell_type": "code",
   "execution_count": 271,
   "metadata": {},
   "outputs": [],
   "source": [
    "# c = ContactErrors()\n"
   ]
  },
  {
   "cell_type": "code",
   "execution_count": 272,
   "metadata": {},
   "outputs": [],
   "source": [
    "#|export\n",
    "\n",
    "# Regular expression pattern for validating email\n",
    "email_regex = r'^[a-zA-Z0-9_.+-]+@[a-zA-Z0-9-]+\\.[a-zA-Z0-9-.]+$'\n",
    "phone_regex =  r'^(?:\\d{7,}|\\d{1,}-\\d{1,}-?\\d{5,}|\\d+-\\d{7,}|\\d{3}-\\d{4})$'"
   ]
  },
  {
   "cell_type": "code",
   "execution_count": 273,
   "metadata": {},
   "outputs": [],
   "source": [
    "#|export\n",
    "\n",
    "# Function to validate email\n",
    "def validate_email(email):\n",
    "    if re.match(email_regex, email): return True\n",
    "    else: return False"
   ]
  },
  {
   "cell_type": "code",
   "execution_count": 274,
   "metadata": {},
   "outputs": [],
   "source": [
    "#| export\n",
    "def check_duplicates(elem, ls):\n",
    "   return elem in ls"
   ]
  },
  {
   "cell_type": "code",
   "execution_count": 275,
   "metadata": {},
   "outputs": [],
   "source": [
    "#|export\n",
    "\n",
    "# Function to validate phone number\n",
    "def validate_phone_number(phone_number):\n",
    "    if re.match(phone_regex, phone_number): return True\n",
    "    else: return False"
   ]
  },
  {
   "cell_type": "code",
   "execution_count": 276,
   "metadata": {},
   "outputs": [
    {
     "name": "stdout",
     "output_type": "stream",
     "text": [
      "555-1234: Valid phone number\n",
      "917347306788: Valid phone number\n",
      "7237424: Valid phone number\n",
      "123-456: Invalid phone number\n",
      "123-456-7890: Invalid phone number\n",
      "123--456: Invalid phone number\n",
      "123-45: Invalid phone number\n"
     ]
    }
   ],
   "source": [
    "\n",
    "# Example usage\n",
    "phone_numbers = [\"555-1234\", \"917347306788\", \"7237424\", \"123-456\", \"123-456-7890\", \"123--456\", \"123-45\"]\n",
    "for number in phone_numbers:\n",
    "    if validate_phone_number(number):\n",
    "        print(f\"{number}: Valid phone number\")\n",
    "    else:\n",
    "        print(f\"{number}: Invalid phone number\")"
   ]
  },
  {
   "cell_type": "code",
   "execution_count": 277,
   "metadata": {},
   "outputs": [
    {
     "name": "stdout",
     "output_type": "stream",
     "text": [
      "Invalid email\n"
     ]
    }
   ],
   "source": [
    "\n",
    "# Example usage\n",
    "email = \"example@example.com\"\n",
    "email = \"rahuketu\"\n",
    "if validate_email(email):\n",
    "    print(\"Valid email\")\n",
    "else:\n",
    "    print(\"Invalid email\")"
   ]
  },
  {
   "cell_type": "code",
   "execution_count": 278,
   "metadata": {},
   "outputs": [],
   "source": [
    "#|export\n",
    "class Contacts(object):\n",
    "    def __init__(self) -> None:\n",
    "        self.refresh()\n",
    "\n",
    "    def search(self, q):\n",
    "        predicate_firstname = self.db['firstname'].str.lower().str.contains(q.lower())\n",
    "        predicate_lastname = self.db['lastname'].str.lower().str.contains(q.lower())\n",
    "        predicate_phone = self.db['phone'].str.lower().str.contains(q.lower())\n",
    "        predicate_email= self.db['email'].str.lower().str.contains(q.lower())\n",
    "        filter_df = self.db[predicate_firstname|predicate_lastname|predicate_phone|predicate_email]\n",
    "        return filter_df.to_dict('records')\n",
    "    \n",
    "    def refresh(self):\n",
    "        self.file_path = 'contactdb.json'\n",
    "        self.db = pd.read_json(self.file_path)\n",
    "\n",
    "    def all(self):\n",
    "        return self.db.to_dict('records')\n",
    "    \n",
    "    def get(self, id):\n",
    "        contact = self.db[self.db['id']==id]\n",
    "        return contact.to_dict('records')[0]\n",
    "    \n",
    "\n",
    "    def add_or_edit(self, id, firstname, lastname, phone, email):\n",
    "        a={'firstname': firstname,\n",
    "           'lastname': lastname,\n",
    "           'phone':phone,\n",
    "           'email': email,\n",
    "           'id': id}\n",
    "        id_idx = None\n",
    "        # print(\"id is None\" if id is None else \"id is ok\")\n",
    "        if id is None: id_idx = self.db['id'].max()+1; a['id'] = id_idx\n",
    "        else: id_idx = self.db[self.db['id']==id].index\n",
    "        # print(id_idx)\n",
    "        self.db.loc[id_idx, a.keys()] = a.values()\n",
    "        # print(self.db.tail(1))\n",
    "        self.db.to_json(self.file_path, orient='records')\n",
    "        self.refresh()\n",
    "\n",
    "    def delete(self, id):\n",
    "        id_idx = self.db[self.db['id']==id].index\n",
    "        self.db.drop(index=id_idx, inplace=True, errors='raise')\n",
    "        self.db.to_json(self.file_path, orient='records')\n",
    "        self.refresh()\n",
    "\n",
    "    def get_emails(self):\n",
    "        return self.db['email'].tolist()"
   ]
  },
  {
   "cell_type": "code",
   "execution_count": 279,
   "metadata": {},
   "outputs": [],
   "source": [
    "#|export\n",
    "@dataclass\n",
    "class Contact:\n",
    "    firstname:str=None\n",
    "    lastname:str=None\n",
    "    phone:str=None\n",
    "    email:str=None\n",
    "    id: int =None\n",
    "    errors:ContactErrors = field(default_factory=lambda: ContactErrors())\n",
    "    is_valid:bool=True\n",
    "\n",
    "    def from_contacts_dict(self, c):\n",
    "        self.firstname = c['firstname']\n",
    "        self.lastname = c['lastname']\n",
    "        self.phone = c['phone']\n",
    "        self.email = c['email']\n",
    "        self.id = c['id']\n",
    "        self.check_valid(duplicate_ok=True)\n",
    "\n",
    "    def check_valid(self, duplicate_ok=False):\n",
    "        self.is_valid = True\n",
    "        if self.firstname is None or self.firstname == \"\":\n",
    "            self.is_valid = False\n",
    "            self.errors.firstname = \"Firstname is empty\"\n",
    "        \n",
    "        if self.lastname is None or self.lastname == \"\":\n",
    "            self.is_valid = False\n",
    "            self.errors.lastname = \"Lastname is empty\"\n",
    "        \n",
    "        if self.phone is None or self.phone == \"\":\n",
    "            self.is_valid = False\n",
    "            self.errors.phone= \"Phone is empty\"\n",
    "        elif not validate_phone_number(self.phone):\n",
    "            self.is_valid = False\n",
    "            self.errors.phone= \"Format phone not correct\"\n",
    "        else: pass\n",
    "\n",
    "        if self.email is None or self.email == \"\":\n",
    "            self.is_valid = False\n",
    "            self.errors.email= \"Email is empty\"\n",
    "        elif not validate_email(self.email):\n",
    "            self.is_valid = False\n",
    "            self.errors.email= \"Format email not correct\"\n",
    "        elif not duplicate_ok:\n",
    "            if check_duplicates(self.email, Contacts().get_emails()):\n",
    "                self.is_valid = False\n",
    "                self.errors.email= \"Duplicated email\"\n",
    "        else: pass\n",
    "\n",
    "    def commit(self, duplicate_ok=True):\n",
    "        self.check_valid(duplicate_ok=duplicate_ok)\n",
    "        if not self.is_valid: return False\n",
    "        else:\n",
    "            db = Contacts()\n",
    "            print(\"None\" if self.id is None else \"ok\")\n",
    "            db.add_or_edit(id=self.id,\n",
    "                    firstname = self.firstname, \n",
    "                    lastname = self.lastname, \n",
    "                    phone=self.phone, \n",
    "                    email=self.email)\n",
    "            return True\n",
    "\n",
    "    def __repr__(self) -> str:\n",
    "        a= [[self.firstname, self.errors.firstname],\n",
    "            [self.lastname, self.errors.lastname],\n",
    "            [self.phone, self.errors.phone],\n",
    "            [self.email, self.errors.email],\n",
    "            [self.is_valid, \"\"]]\n",
    "        return f\"Contact{str(a)}\"\n",
    "        "
   ]
  },
  {
   "cell_type": "code",
   "execution_count": 280,
   "metadata": {},
   "outputs": [
    {
     "name": "stdout",
     "output_type": "stream",
     "text": [
      "None\n"
     ]
    },
    {
     "data": {
      "text/plain": [
       "True"
      ]
     },
     "execution_count": 280,
     "metadata": {},
     "output_type": "execute_result"
    }
   ],
   "source": [
    "create_db()\n",
    "c = Contact(firstname='Rahul', lastname='Saraf', phone='555-1200', email='rahuketu@gmail.com')\n",
    "c.check_valid(duplicate_ok=False)\n",
    "c.commit(duplicate_ok=False)\n",
    "# c.id"
   ]
  },
  {
   "cell_type": "code",
   "execution_count": 281,
   "metadata": {},
   "outputs": [
    {
     "data": {
      "text/plain": [
       "True"
      ]
     },
     "execution_count": 281,
     "metadata": {},
     "output_type": "execute_result"
    }
   ],
   "source": [
    "validate_email(c.email)\n",
    "\n",
    "duplicate_ok=False\n",
    "\n",
    "check_duplicates(c.email, Contacts().get_emails())"
   ]
  },
  {
   "cell_type": "code",
   "execution_count": 282,
   "metadata": {},
   "outputs": [
    {
     "data": {
      "text/plain": [
       "['john.doe@example.com',\n",
       " 'jane.smith@example.com',\n",
       " 'alice.johnson@example.com',\n",
       " 'bob.williams@example.com',\n",
       " 'charlie.brown@example.com',\n",
       " 'diana.miller@example.com',\n",
       " 'edward.davis@example.com',\n",
       " 'fiona.garcia@example.com',\n",
       " 'george.martinez@example.com',\n",
       " 'hannah.rodriguez@example.com',\n",
       " 'rahuketu@gmail.com']"
      ]
     },
     "execution_count": 282,
     "metadata": {},
     "output_type": "execute_result"
    }
   ],
   "source": [
    "Contacts().get_emails()"
   ]
  },
  {
   "cell_type": "code",
   "execution_count": 283,
   "metadata": {},
   "outputs": [
    {
     "data": {
      "text/plain": [
       "Contact[[None, None], [None, None], [None, None], [None, None], [True, '']]"
      ]
     },
     "execution_count": 283,
     "metadata": {},
     "output_type": "execute_result"
    }
   ],
   "source": [
    "Contact()"
   ]
  },
  {
   "cell_type": "code",
   "execution_count": 284,
   "metadata": {},
   "outputs": [
    {
     "name": "stdout",
     "output_type": "stream",
     "text": [
      "ok\n"
     ]
    },
    {
     "data": {
      "text/plain": [
       "True"
      ]
     },
     "execution_count": 284,
     "metadata": {},
     "output_type": "execute_result"
    }
   ],
   "source": [
    "c_set = Contacts()\n",
    "c_dict = c_set.get(0)\n",
    "c_dict\n",
    "c = Contact()\n",
    "c.from_contacts_dict(c_dict)\n",
    "c.phone = '555-1001'\n",
    "c.commit()"
   ]
  },
  {
   "cell_type": "code",
   "execution_count": 258,
   "metadata": {},
   "outputs": [],
   "source": [
    "# new_vals = [2, 'Alice', 'Johnson', '555-8767', 'alice.johnson@example.com']\n",
    "# c.edit(*new_vals)\n",
    "# c.get(2)"
   ]
  },
  {
   "cell_type": "code",
   "execution_count": 259,
   "metadata": {},
   "outputs": [
    {
     "data": {
      "text/plain": [
       "[{'firstname': 'Jane',\n",
       "  'lastname': 'Smith',\n",
       "  'phone': '555-5678',\n",
       "  'email': 'jane.smith@example.com',\n",
       "  'id': 1},\n",
       " {'firstname': 'Alice',\n",
       "  'lastname': 'Johnson',\n",
       "  'phone': '555-8765',\n",
       "  'email': 'alice.johnson@example.com',\n",
       "  'id': 2},\n",
       " {'firstname': 'Bob',\n",
       "  'lastname': 'Williams',\n",
       "  'phone': '555-4321',\n",
       "  'email': 'bob.williams@example.com',\n",
       "  'id': 3},\n",
       " {'firstname': 'Charlie',\n",
       "  'lastname': 'Brown',\n",
       "  'phone': '555-9876',\n",
       "  'email': 'charlie.brown@example.com',\n",
       "  'id': 4},\n",
       " {'firstname': 'Diana',\n",
       "  'lastname': 'Miller',\n",
       "  'phone': '555-6543',\n",
       "  'email': 'diana.miller@example.com',\n",
       "  'id': 5},\n",
       " {'firstname': 'Edward',\n",
       "  'lastname': 'Davis',\n",
       "  'phone': '555-3456',\n",
       "  'email': 'edward.davis@example.com',\n",
       "  'id': 6},\n",
       " {'firstname': 'Fiona',\n",
       "  'lastname': 'Garcia',\n",
       "  'phone': '555-6789',\n",
       "  'email': 'fiona.garcia@example.com',\n",
       "  'id': 7},\n",
       " {'firstname': 'George',\n",
       "  'lastname': 'Martinez',\n",
       "  'phone': '555-7890',\n",
       "  'email': 'george.martinez@example.com',\n",
       "  'id': 8},\n",
       " {'firstname': 'Hannah',\n",
       "  'lastname': 'Rodriguez',\n",
       "  'phone': '555-8901',\n",
       "  'email': 'hannah.rodriguez@example.com',\n",
       "  'id': 9},\n",
       " {'firstname': 'Rahul',\n",
       "  'lastname': 'Saraf',\n",
       "  'phone': '555-1200',\n",
       "  'email': 'rahuketu@gmail.com',\n",
       "  'id': 10}]"
      ]
     },
     "execution_count": 259,
     "metadata": {},
     "output_type": "execute_result"
    }
   ],
   "source": [
    "c = Contacts()\n",
    "a_dict = c.db.loc[0].to_dict(); a_dict\n",
    "# a_dict.pop('id', None); a_dict\n",
    "c.delete(0)\n",
    "\n",
    "c.add_or_edit(*list(a_dict.values()))\n",
    "c.all()\n",
    "\n",
    "\n"
   ]
  },
  {
   "cell_type": "code",
   "execution_count": 260,
   "metadata": {},
   "outputs": [
    {
     "data": {
      "text/plain": [
       "{'firstname': 'Jane',\n",
       " 'lastname': 'Smith',\n",
       " 'phone': '555-5678',\n",
       " 'email': 'jane.smith@example.com',\n",
       " 'id': 1}"
      ]
     },
     "execution_count": 260,
     "metadata": {},
     "output_type": "execute_result"
    }
   ],
   "source": [
    "df = Contacts().db\n",
    "df = df[df['id']==1].to_dict('records')[0]; df"
   ]
  },
  {
   "cell_type": "code",
   "execution_count": 261,
   "metadata": {},
   "outputs": [
    {
     "data": {
      "text/plain": [
       "{'firstname': 'Alice',\n",
       " 'lastname': 'Johnson',\n",
       " 'phone': '555-8765',\n",
       " 'email': 'alice.johnson@example.com',\n",
       " 'id': 2}"
      ]
     },
     "execution_count": 261,
     "metadata": {},
     "output_type": "execute_result"
    }
   ],
   "source": [
    "Contacts().get(2)"
   ]
  },
  {
   "cell_type": "code",
   "execution_count": 262,
   "metadata": {},
   "outputs": [],
   "source": [
    "#|eval:false\n",
    "from nbdev.export import nb_export\n",
    "nb_export(\"00_datamodel.ipynb\", lib_path=\".\", name='datamodel')"
   ]
  },
  {
   "cell_type": "code",
   "execution_count": null,
   "metadata": {},
   "outputs": [],
   "source": []
  },
  {
   "cell_type": "code",
   "execution_count": null,
   "metadata": {},
   "outputs": [],
   "source": []
  },
  {
   "cell_type": "code",
   "execution_count": null,
   "metadata": {},
   "outputs": [],
   "source": []
  },
  {
   "cell_type": "code",
   "execution_count": null,
   "metadata": {},
   "outputs": [],
   "source": []
  },
  {
   "cell_type": "code",
   "execution_count": null,
   "metadata": {},
   "outputs": [],
   "source": []
  },
  {
   "cell_type": "code",
   "execution_count": null,
   "metadata": {},
   "outputs": [],
   "source": []
  },
  {
   "cell_type": "code",
   "execution_count": null,
   "metadata": {},
   "outputs": [],
   "source": []
  }
 ],
 "metadata": {
  "kernelspec": {
   "display_name": "htmx-book",
   "language": "python",
   "name": "python3"
  },
  "language_info": {
   "codemirror_mode": {
    "name": "ipython",
    "version": 3
   },
   "file_extension": ".py",
   "mimetype": "text/x-python",
   "name": "python",
   "nbconvert_exporter": "python",
   "pygments_lexer": "ipython3",
   "version": "3.12.4"
  }
 },
 "nbformat": 4,
 "nbformat_minor": 2
}
